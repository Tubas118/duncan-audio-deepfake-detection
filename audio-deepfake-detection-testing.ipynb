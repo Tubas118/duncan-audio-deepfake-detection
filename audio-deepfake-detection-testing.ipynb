{
 "cells": [
  {
   "cell_type": "code",
   "execution_count": null,
   "metadata": {},
   "outputs": [],
   "source": [
    "notebookName = 'audio-deepfake-detection-testing'\n",
    "runJobId = 'ASVspoof-2019_small-eval-1'\n",
    "# runJobId = 'ASVspoof-2019_training'     # This should fail\n",
    "\n",
    "import joblib\n",
    "import numpy as np\n",
    "from tensorflow.keras.utils import to_categorical\n",
    "\n",
    "import configuration.configuration as configuration\n",
    "from mel_spectrogram.mel_spectrogram import MelSpectrogramGenerator\n",
    "from notebook_utils import notebookToPython\n",
    "from processors.basic_model_evaluation_processor import BasicModelEvaluationProcessor\n",
    "from readers.label_reader import readTrainingLabelsWithJob"
   ]
  },
  {
   "cell_type": "code",
   "execution_count": null,
   "metadata": {},
   "outputs": [
    {
     "name": "stdout",
     "output_type": "stream",
     "text": [
      "Write python file\n",
      "Generating new model name: ASVspoof-2019_training_2025-03-20T20-34-43.149507.libjob\n",
      "Assigned model name: ASVspoof-2019_training_2025-03-20T20-34-43.149507.libjob\n"
     ]
    },
    {
     "ename": "ValueError",
     "evalue": "This notebook is meant for testing. Select a job with a value for 'persisted-mode' set.",
     "output_type": "error",
     "traceback": [
      "\u001b[1;31m---------------------------------------------------------------------------\u001b[0m",
      "\u001b[1;31mValueError\u001b[0m                                Traceback (most recent call last)",
      "Cell \u001b[1;32mIn[7], line 7\u001b[0m\n\u001b[0;32m      4\u001b[0m job \u001b[38;5;241m=\u001b[39m config\u001b[38;5;241m.\u001b[39mgetJobConfig(runJobId)\n\u001b[0;32m      6\u001b[0m \u001b[38;5;28;01mif\u001b[39;00m (job\u001b[38;5;241m.\u001b[39mnewModelGenerated):\n\u001b[1;32m----> 7\u001b[0m     \u001b[38;5;28;01mraise\u001b[39;00m \u001b[38;5;167;01mValueError\u001b[39;00m(\u001b[38;5;124m\"\u001b[39m\u001b[38;5;124mThis notebook is meant for testing. Select a job with a value for \u001b[39m\u001b[38;5;124m'\u001b[39m\u001b[38;5;124mpersisted-mode\u001b[39m\u001b[38;5;124m'\u001b[39m\u001b[38;5;124m set.\u001b[39m\u001b[38;5;124m\"\u001b[39m)\n",
      "\u001b[1;31mValueError\u001b[0m: This notebook is meant for testing. Select a job with a value for 'persisted-mode' set."
     ]
    }
   ],
   "source": [
    "config = configuration.ConfigLoader('config.yml')\n",
    "\n",
    "notebookToPython(notebookName)\n",
    "job = config.getJobConfig(runJobId)\n",
    "\n",
    "if (job.newModelGenerated):\n",
    "    raise ValueError(\"This notebook is meant for testing. Select a job with a value for 'persisted-model' set.\")"
   ]
  },
  {
   "cell_type": "code",
   "execution_count": 3,
   "metadata": {},
   "outputs": [],
   "source": [
    "generator = MelSpectrogramGenerator()\n",
    "model = joblib.load(job.persistedModel)\n",
    "evaluationProc = BasicModelEvaluationProcessor(job, model)"
   ]
  },
  {
   "cell_type": "code",
   "execution_count": 4,
   "metadata": {},
   "outputs": [
    {
     "name": "stdout",
     "output_type": "stream",
     "text": [
      "Loading C:/Users/tubas/workspace/Deepfake/data/ASVspoof-2019/LA/ASVspoof2019_LA_cm_protocols/ASVspoof2019.LA.cm.eval-small.trl.txt...\n"
     ]
    }
   ],
   "source": [
    "fullDataPath = job.fullJoinFilePath(job.dataPathRoot, job.dataPathSuffix)\n",
    "labels = readTrainingLabelsWithJob(job)"
   ]
  },
  {
   "cell_type": "code",
   "execution_count": 5,
   "metadata": {},
   "outputs": [
    {
     "name": "stdout",
     "output_type": "stream",
     "text": [
      "\n",
      "Evaluating LA_E_5932896 - 0\n",
      "\u001b[1m1/1\u001b[0m \u001b[32m━━━━━━━━━━━━━━━━━━━━\u001b[0m\u001b[37m\u001b[0m \u001b[1m0s\u001b[0m 90ms/step\n",
      "  Processed: 1 - Score: 1.0\n",
      "\n",
      "Evaluating LA_E_5849185 - 1\n",
      "\u001b[1m1/1\u001b[0m \u001b[32m━━━━━━━━━━━━━━━━━━━━\u001b[0m\u001b[37m\u001b[0m \u001b[1m0s\u001b[0m 30ms/step\n",
      "  Processed: 1 - Score: 0.0\n",
      "\n",
      "Evaluating LA_E_6163791 - 0\n",
      "\u001b[1m1/1\u001b[0m \u001b[32m━━━━━━━━━━━━━━━━━━━━\u001b[0m\u001b[37m\u001b[0m \u001b[1m0s\u001b[0m 21ms/step\n",
      "  Processed: 1 - Score: 1.0\n",
      "\n",
      "Evaluating LA_E_4581379 - 1\n",
      "\u001b[1m1/1\u001b[0m \u001b[32m━━━━━━━━━━━━━━━━━━━━\u001b[0m\u001b[37m\u001b[0m \u001b[1m0s\u001b[0m 22ms/step\n",
      "  Processed: 1 - Score: 1.0\n",
      "\n",
      "\n",
      "timestamp: 2025-03-21T01:30:25.239948+00:00\n",
      "model file: ASVspoof-2019-1_2025-03-19T22-03-42.178503.libjob\n",
      "test file count: 4\n",
      "accuracy_score: 0.75\n",
      "\n",
      "job: {\n",
      "    \"jobId\": \"ASVspoof-2019_small-eval-1\",\n",
      "    \"dataPathRootRaw\": \"$HOMEDRIVE$HOMEPATH/workspace/Deepfake/data/ASVspoof-2019\",\n",
      "    \"dataPathRoot\": \"C:/Users/tubas/workspace/Deepfake/data/ASVspoof-2019\",\n",
      "    \"dataPathSuffix\": \"LA/ASVspoof2019_LA_eval_small/flac\",\n",
      "    \"dataExtension\": \".flac\",\n",
      "    \"labelFilename\": \"LA/ASVspoof2019_LA_cm_protocols/ASVspoof2019.LA.cm.eval-small.trl.txt\",\n",
      "    \"executeToCategoricalForLabels\": true,\n",
      "    \"numClasses\": 2,\n",
      "    \"sampleRate\": 16000,\n",
      "    \"duration\": 5,\n",
      "    \"numMels\": 128,\n",
      "    \"maxTimeSteps\": 109,\n",
      "    \"optimizer\": \"adam\",\n",
      "    \"loss\": \"categorical_crossentropy\",\n",
      "    \"metrics\": [\n",
      "        \"accuracy\"\n",
      "    ],\n",
      "    \"batchSize\": 32,\n",
      "    \"numEpochs\": 10,\n",
      "    \"newModelGenerated\": false,\n",
      "    \"persistedModel\": \"ASVspoof-2019-1_2025-03-19T22-03-42.178503.libjob\",\n",
      "    \"persistedModelResults\": \"ASVspoof-2019-1_2025-03-19T22-03-42.178503_2025-03-20T20-30-22.620487.txt\"\n",
      "}\n",
      "\n"
     ]
    }
   ],
   "source": [
    "for filename, label in labels.items():\n",
    "    print(f\"\\nEvaluating {filename} - {label}\")\n",
    "    X, y = generator.generateMelSpectrogram(job, fullDataPath, filename, label)\n",
    "    evaluationProc.process(X, y)\n",
    "\n",
    "print(\"\\n\")\n",
    "evaluationProc.reportSnapshot()"
   ]
  }
 ],
 "metadata": {
  "kernelspec": {
   "display_name": "audio-deepfake-detection",
   "language": "python",
   "name": "python3"
  },
  "language_info": {
   "codemirror_mode": {
    "name": "ipython",
    "version": 3
   },
   "file_extension": ".py",
   "mimetype": "text/x-python",
   "name": "python",
   "nbconvert_exporter": "python",
   "pygments_lexer": "ipython3",
   "version": "3.12.3"
  }
 },
 "nbformat": 4,
 "nbformat_minor": 2
}
