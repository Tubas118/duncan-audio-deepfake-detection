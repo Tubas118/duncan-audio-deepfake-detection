{
 "cells": [
  {
   "cell_type": "markdown",
   "metadata": {},
   "source": [
    "### Setup"
   ]
  },
  {
   "cell_type": "code",
   "execution_count": null,
   "metadata": {},
   "outputs": [],
   "source": [
    "from config.configuration import RunDetails\n",
    "\n",
    "runDetail = RunDetails('config.yml', 'Compare-Sksmta-eval')\n",
    "# runDetail = RunDetails('config.yml', 'ASVspoof-2019_2025-03-24-1_large-batch')\n",
    "\n",
    "notebookName = 'audio-deepfake-detection-testing'"
   ]
  },
  {
   "cell_type": "code",
   "execution_count": null,
   "metadata": {},
   "outputs": [],
   "source": [
    "configFilename = runDetail.configFilename\n",
    "runJobId = runDetail.jobId"
   ]
  },
  {
   "cell_type": "code",
   "execution_count": null,
   "metadata": {},
   "outputs": [],
   "source": [
    "import joblib\n",
    "\n",
    "import config.configuration as configuration\n",
    "from notebook_utils import notebookToPython\n",
    "from postprocessors.plot_confusion_matrix import PlotConfusionMatrix\n",
    "from postprocessors.plot_roc_curve import PlotRocCurve\n",
    "from postprocessors.plot_spectrogram import PlotSpectrogram\n",
    "from preprocessors.mel_spectrogram import MelSpectrogramPreprocessor\n",
    "from processors.basic_model_evaluation_processor import BasicModelEvaluationProcessor\n",
    "from processors.model_evaluation_result import ModelEvaluationResult\n",
    "from readers.label_reader import readLabelsWithJob"
   ]
  },
  {
   "cell_type": "code",
   "execution_count": null,
   "metadata": {},
   "outputs": [],
   "source": [
    "config = configuration.ConfigLoader(configFilename)\n",
    "\n",
    "notebookToPython(notebookName)\n",
    "job = config.getJobConfig(runJobId)\n",
    "\n",
    "import json\n",
    "prettyJson = json.dumps(job.__dict__, indent=4)\n",
    "print(f\"job: {prettyJson}\")\n",
    "\n",
    "if (job.newModelGenerated):\n",
    "    raise ValueError(\"This notebook is meant for testing. Select a job with a value for 'persisted-model' set.\")"
   ]
  },
  {
   "cell_type": "code",
   "execution_count": null,
   "metadata": {},
   "outputs": [],
   "source": [
    "generator = MelSpectrogramPreprocessor()\n",
    "model = joblib.load(job.persistedModel)\n",
    "evaluationProc = BasicModelEvaluationProcessor(job, model)"
   ]
  },
  {
   "cell_type": "code",
   "execution_count": null,
   "metadata": {},
   "outputs": [],
   "source": [
    "fullDataPath = job.fullJoinFilePath(job.dataPathRoot, job.dataPathSuffix)\n",
    "y_test = readLabelsWithJob(job)"
   ]
  },
  {
   "cell_type": "markdown",
   "metadata": {},
   "source": [
    "### Mel Spectrogram preprocessing with \"power_to_db\" applied"
   ]
  },
  {
   "cell_type": "code",
   "execution_count": null,
   "metadata": {},
   "outputs": [],
   "source": [
    "from preprocessors.abstract_preprocessor import AbstractPreprocessor\n",
    "from preprocessors.preprocessor_factory import PreprocessorFactory\n",
    "\n",
    "\n",
    "preproc_factory = PreprocessorFactory()\n",
    "preprocessor: AbstractPreprocessor = preproc_factory.newPreprocessor(job.preprocessor)\n"
   ]
  },
  {
   "cell_type": "code",
   "execution_count": null,
   "metadata": {},
   "outputs": [],
   "source": [
    "X_test, y_test, true_labels, source_filenames = preprocessor.extract_features_jobSource(job, job.dataPathSuffix)"
   ]
  },
  {
   "cell_type": "markdown",
   "metadata": {},
   "source": [
    "### Mel Spectrogram samples"
   ]
  },
  {
   "cell_type": "code",
   "execution_count": null,
   "metadata": {},
   "outputs": [],
   "source": [
    "plot_mel_spectrogram = PlotSpectrogram()\n",
    "\n",
    "display_melSpectrogram_count = len(X_test)\n",
    "\n",
    "if (display_melSpectrogram_count > 5): display_melSpectrogram_count = 5\n",
    "\n",
    "for idx in range(0, display_melSpectrogram_count):\n",
    "    filename = source_filenames[idx]\n",
    "    data = X_test[idx]\n",
    "    title = f\"Mel Spectrogram: {filename} ({idx + 1} of {display_melSpectrogram_count})\"\n",
    "    plot_mel_spectrogram.plot(data, job, title)"
   ]
  },
  {
   "cell_type": "markdown",
   "metadata": {},
   "source": [
    "### Mel Spectrogram with and without \"power_to_db\" transformation applied"
   ]
  },
  {
   "cell_type": "code",
   "execution_count": null,
   "metadata": {},
   "outputs": [],
   "source": [
    "fullDataPath = job.fullJoinFilePath(job.dataPathRoot, job.dataPathSuffix)\n",
    "\n",
    "preproc_noExec_power_to_db: AbstractPreprocessor = preproc_factory.newPreprocessor(job.preprocessor, False)\n",
    "X_test_noPowerToDb = preproc_noExec_power_to_db.extract_features_singleSource(job, fullDataPath, source_filenames[0])"
   ]
  },
  {
   "cell_type": "code",
   "execution_count": null,
   "metadata": {},
   "outputs": [],
   "source": [
    "\n",
    "filename = source_filenames[idx]\n",
    "plot_mel_spectrogram.plot(X_test[0], job, f\"Mel Spectrogram: {filename} (with power_to_db)\")\n",
    "\n",
    "plot_mel_spectrogram_noPowerToDb = PlotSpectrogram()\n",
    "plot_mel_spectrogram_noPowerToDb.plot(X_test_noPowerToDb, job, f\"Mel Spectrogram: {filename} (without power_to_db)\")"
   ]
  },
  {
   "cell_type": "markdown",
   "metadata": {},
   "source": [
    "### Scoring"
   ]
  },
  {
   "cell_type": "code",
   "execution_count": null,
   "metadata": {},
   "outputs": [],
   "source": [
    "results: ModelEvaluationResult = evaluationProc.process(X_test, y_test, true_labels)"
   ]
  },
  {
   "cell_type": "markdown",
   "metadata": {},
   "source": [
    "### Plots"
   ]
  },
  {
   "cell_type": "code",
   "execution_count": null,
   "metadata": {},
   "outputs": [],
   "source": [
    "cm_plot = PlotConfusionMatrix()\n",
    "cm_plot.plotFromResults(results, job)"
   ]
  },
  {
   "cell_type": "code",
   "execution_count": null,
   "metadata": {},
   "outputs": [],
   "source": [
    "roc_plot = PlotRocCurve()\n",
    "roc_plot.plotFromResults(results)"
   ]
  },
  {
   "cell_type": "markdown",
   "metadata": {},
   "source": [
    "### Final Results"
   ]
  },
  {
   "cell_type": "code",
   "execution_count": null,
   "metadata": {},
   "outputs": [],
   "source": [
    "print(\"\\n\")\n",
    "report = evaluationProc.reportSnapshot()\n",
    "evaluationProc.writeReportToFile(job.persistedModelResults, report)\n",
    "\n",
    "print(report)"
   ]
  }
 ],
 "metadata": {
  "kernelspec": {
   "display_name": "audio-deepfake-detection",
   "language": "python",
   "name": "python3"
  },
  "language_info": {
   "codemirror_mode": {
    "name": "ipython",
    "version": 3
   },
   "file_extension": ".py",
   "mimetype": "text/x-python",
   "name": "python",
   "nbconvert_exporter": "python",
   "pygments_lexer": "ipython3",
   "version": "3.12.3"
  }
 },
 "nbformat": 4,
 "nbformat_minor": 2
}
