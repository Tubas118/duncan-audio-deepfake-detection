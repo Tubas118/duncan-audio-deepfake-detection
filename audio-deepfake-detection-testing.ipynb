{
 "cells": [
  {
   "cell_type": "code",
   "execution_count": 7,
   "metadata": {},
   "outputs": [],
   "source": [
    "notebookName = 'audio-deepfake-detection-testing'\n",
    "# runJobId = 'ASVspoof-2019_small-eval-1'\n",
    "# runJobId = 'ASVspoof-2019_eval-1'\n",
    "# runJobId = 'ASVspoof-2019_eval-1_large-batch'\n",
    "runJobId = 'ASVspoof-2019_eval-1_huge-batch'\n",
    "# runJobId = 'ASVspoof-2019_training'     # This should fail\n",
    "\n",
    "import joblib\n",
    "import numpy as np\n",
    "from tensorflow.keras.utils import to_categorical\n",
    "\n",
    "import configuration.configuration as configuration\n",
    "from mel_spectrogram.mel_spectrogram import MelSpectrogramGenerator\n",
    "from notebook_utils import notebookToPython\n",
    "from processors.basic_model_evaluation_processor import BasicModelEvaluationProcessor\n",
    "from readers.label_reader import readTrainingLabelsWithJob"
   ]
  },
  {
   "cell_type": "code",
   "execution_count": 8,
   "metadata": {},
   "outputs": [
    {
     "name": "stdout",
     "output_type": "stream",
     "text": [
      "Write python file\n",
      "Using configured model name: results/ASVspoof-2019_training_2025-03-23T13-49-37.076926.libjob\n",
      "Assigned model name: results/ASVspoof-2019_training_2025-03-23T13-49-37.076926.libjob\n",
      "job: {\n",
      "    \"jobId\": \"ASVspoof-2019_eval-1_huge-batch\",\n",
      "    \"inputFileBatchSize\": 71237,\n",
      "    \"outputFolder\": \"output\",\n",
      "    \"dataPathRootRaw\": \"$HOMEDRIVE$HOMEPATH/workspace/Deepfake/data/ASVspoof-2019\",\n",
      "    \"dataPathRoot\": \"C:/Users/tubas/workspace/Deepfake/data/ASVspoof-2019\",\n",
      "    \"dataPathSuffix\": \"LA/ASVspoof2019_LA_eval/flac\",\n",
      "    \"dataExtension\": \".flac\",\n",
      "    \"trainingSplitRandomState\": 3,\n",
      "    \"labelFilename\": \"LA/ASVspoof2019_LA_cm_protocols/ASVspoof2019.LA.cm.eval.trl.txt\",\n",
      "    \"executeToCategoricalForLabels\": true,\n",
      "    \"numClasses\": 2,\n",
      "    \"sampleRate\": 16000,\n",
      "    \"duration\": 5,\n",
      "    \"numMels\": 128,\n",
      "    \"maxTimeSteps\": 109,\n",
      "    \"optimizer\": \"adam\",\n",
      "    \"loss\": \"categorical_crossentropy\",\n",
      "    \"metrics\": [\n",
      "        \"accuracy\"\n",
      "    ],\n",
      "    \"batchSize\": 32,\n",
      "    \"numEpochs\": 10,\n",
      "    \"newModelGenerated\": false,\n",
      "    \"persistedModel\": \"results/ASVspoof-2019_training_2025-03-23T13-49-37.076926.libjob\",\n",
      "    \"persistedModelResults\": \"results/ASVspoof-2019_training_2025-03-23T13-49-37.076926_2025-03-23T17-14-53.748320.txt\"\n",
      "}\n"
     ]
    }
   ],
   "source": [
    "config = configuration.ConfigLoader('config.yml')\n",
    "\n",
    "notebookToPython(notebookName)\n",
    "job = config.getJobConfig(runJobId)\n",
    "\n",
    "import json\n",
    "prettyJson = json.dumps(job.__dict__, indent=4)\n",
    "print(f\"job: {prettyJson}\")\n",
    "\n",
    "if (job.newModelGenerated):\n",
    "    raise ValueError(\"This notebook is meant for testing. Select a job with a value for 'persisted-model' set.\")"
   ]
  },
  {
   "cell_type": "code",
   "execution_count": 9,
   "metadata": {},
   "outputs": [],
   "source": [
    "generator = MelSpectrogramGenerator()\n",
    "model = joblib.load(job.persistedModel)\n",
    "evaluationProc = BasicModelEvaluationProcessor(job, model)"
   ]
  },
  {
   "cell_type": "code",
   "execution_count": 10,
   "metadata": {},
   "outputs": [
    {
     "name": "stdout",
     "output_type": "stream",
     "text": [
      "Loading C:/Users/tubas/workspace/Deepfake/data/ASVspoof-2019/LA/ASVspoof2019_LA_cm_protocols/ASVspoof2019.LA.cm.eval.trl.txt...\n"
     ]
    }
   ],
   "source": [
    "fullDataPath = job.fullJoinFilePath(job.dataPathRoot, job.dataPathSuffix)\n",
    "labels = readTrainingLabelsWithJob(job)"
   ]
  },
  {
   "cell_type": "code",
   "execution_count": 11,
   "metadata": {},
   "outputs": [],
   "source": [
    "def processArrays(X, y):\n",
    "    _X = np.array(X)\n",
    "    _y = np.array(y)\n",
    "    evaluationProc.process(_X, _y)\n"
   ]
  },
  {
   "cell_type": "code",
   "execution_count": 6,
   "metadata": {},
   "outputs": [
    {
     "name": "stdout",
     "output_type": "stream",
     "text": [
      "\u001b[1m2227/2227\u001b[0m \u001b[32m━━━━━━━━━━━━━━━━━━━━\u001b[0m\u001b[37m\u001b[0m \u001b[1m140s\u001b[0m 62ms/step\n",
      "  Batches: 1 - Files: 71237 - Score: 0.9006274829091624 - Elements: 71237\n",
      "\n",
      "\n",
      "---- Testing (start) ----\n",
      "start time: 2025-03-23T22:11:54.369844+00:00\n",
      "end time: 2025-03-23T22:14:53.678899+00:00\n",
      "elapsed: 0:02:59.309055\n",
      "\n",
      "model file: results/ASVspoof-2019_training_2025-03-23T13-49-37.076926.libjob\n",
      "batch count: 1\n",
      "file count: 71237\n",
      "accuracy_score: 0.9006274829091624\n",
      "\n",
      "job: {\n",
      "    \"jobId\": \"ASVspoof-2019_eval-1_huge-batch\",\n",
      "    \"inputFileBatchSize\": 71237,\n",
      "    \"outputFolder\": \"output\",\n",
      "    \"dataPathRootRaw\": \"$HOMEDRIVE$HOMEPATH/workspace/Deepfake/data/ASVspoof-2019\",\n",
      "    \"dataPathRoot\": \"C:/Users/tubas/workspace/Deepfake/data/ASVspoof-2019\",\n",
      "    \"dataPathSuffix\": \"LA/ASVspoof2019_LA_eval/flac\",\n",
      "    \"dataExtension\": \".flac\",\n",
      "    \"trainingSplitRandomState\": 3,\n",
      "    \"labelFilename\": \"LA/ASVspoof2019_LA_cm_protocols/ASVspoof2019.LA.cm.eval.trl.txt\",\n",
      "    \"executeToCategoricalForLabels\": true,\n",
      "    \"numClasses\": 2,\n",
      "    \"sampleRate\": 16000,\n",
      "    \"duration\": 5,\n",
      "    \"numMels\": 128,\n",
      "    \"maxTimeSteps\": 109,\n",
      "    \"optimizer\": \"adam\",\n",
      "    \"loss\": \"categorical_crossentropy\",\n",
      "    \"metrics\": [\n",
      "        \"accuracy\"\n",
      "    ],\n",
      "    \"batchSize\": 32,\n",
      "    \"numEpochs\": 10,\n",
      "    \"newModelGenerated\": false,\n",
      "    \"persistedModel\": \"results/ASVspoof-2019_training_2025-03-23T13-49-37.076926.libjob\",\n",
      "    \"persistedModelResults\": \"results/ASVspoof-2019_training_2025-03-23T13-49-37.076926_2025-03-23T15-37-36.892302.txt\"\n",
      "}\n",
      "\n",
      "---- Testing (end) ----\n",
      "\n"
     ]
    }
   ],
   "source": [
    "X = []\n",
    "y = []\n",
    "\n",
    "for filename, label in labels.items():\n",
    "    _X, _y = generator.generateMelSpectrogram(job, fullDataPath, filename, label)\n",
    "    X.append(_X)\n",
    "    y.append(_y)\n",
    "\n",
    "    if (len(X) >= job.inputFileBatchSize):\n",
    "        processArrays(X, y)\n",
    "        X = []\n",
    "        y = []\n",
    "\n",
    "if (len(X) > 0):\n",
    "    processArrays(X, y)\n",
    "\n",
    "print(\"\\n\")\n",
    "report = evaluationProc.reportSnapshot()\n",
    "evaluationProc.writeReportToFile(job.persistedModelResults, report)"
   ]
  }
 ],
 "metadata": {
  "kernelspec": {
   "display_name": "audio-deepfake-detection",
   "language": "python",
   "name": "python3"
  },
  "language_info": {
   "codemirror_mode": {
    "name": "ipython",
    "version": 3
   },
   "file_extension": ".py",
   "mimetype": "text/x-python",
   "name": "python",
   "nbconvert_exporter": "python",
   "pygments_lexer": "ipython3",
   "version": "3.12.3"
  }
 },
 "nbformat": 4,
 "nbformat_minor": 2
}
