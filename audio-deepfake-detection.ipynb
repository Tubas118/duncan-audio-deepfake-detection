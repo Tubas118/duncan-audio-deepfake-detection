{
 "cells": [
  {
   "cell_type": "code",
   "execution_count": 1,
   "metadata": {},
   "outputs": [],
   "source": [
    "import configuration.configuration as configuration\n",
    "import model_definitions.model_cnn_definition as model_cnn_definition\n",
    "from mel_spectrogram.mel_spectrogram import MelSpectrogramGenerator\n",
    "from notebook_utils import notebookToPython\n",
    "from processors.basic_model_training_processor import BasicModelTrainingProcessor\n",
    "from processors.basic_model_evaluation_processor import BasicModelEvaluationProcessor\n"
   ]
  },
  {
   "cell_type": "code",
   "execution_count": 2,
   "metadata": {},
   "outputs": [
    {
     "name": "stdout",
     "output_type": "stream",
     "text": [
      "Write python file\n",
      "Generating new model name: ASVspoof-2019-1_2025-03-19T22-03-42.178503.libjob\n",
      "Assigned model name: ASVspoof-2019-1_2025-03-19T22-03-42.178503.libjob\n"
     ]
    }
   ],
   "source": [
    "config = configuration.ConfigLoader('config.yml')\n",
    "\n",
    "notebookToPython(config.projectName)\n",
    "job = config.getJobConfig(config.activeJobId)"
   ]
  },
  {
   "cell_type": "code",
   "execution_count": 3,
   "metadata": {},
   "outputs": [
    {
     "name": "stdout",
     "output_type": "stream",
     "text": [
      "Loading C:/Users/tubas/workspace/Deepfake/data/ASVspoof-2019/LA/ASVspoof2019_LA_cm_protocols/ASVspoof2019.LA.cm.train.trn.txt...\n",
      "fullDataPath: C:/Users/tubas/workspace/Deepfake/data/ASVspoof-2019/LA/ASVspoof2019_LA_train/flac\n",
      "Loading audio files: 1269\n",
      "Loading audio files: 2538\n",
      "Loading audio files: 3807\n",
      "Loading audio files: 5076\n",
      "Loading audio files: 6345\n",
      "Loading audio files: 7614\n",
      "Loading audio files: 8883\n",
      "Loading audio files: 10152\n",
      "Loading audio files: 11421\n",
      "Loading audio files: 12690\n",
      "Loading audio files: 13959\n",
      "Loading audio files: 15228\n",
      "Loading audio files: 16497\n",
      "Loading audio files: 17766\n",
      "Loading audio files: 19035\n",
      "Loading audio files: 20304\n",
      "Loading audio files: 21573\n",
      "Loading audio files: 22842\n",
      "Loading audio files: 24111\n",
      "Loading audio files: 25380\n",
      "Number of audio files load: 25380\n"
     ]
    }
   ],
   "source": [
    "generator = MelSpectrogramGenerator()\n",
    "X, y_encoded = generator.generateMelSpectrograms(job, job.dataPathSuffix)"
   ]
  },
  {
   "cell_type": "code",
   "execution_count": 4,
   "metadata": {},
   "outputs": [
    {
     "name": "stdout",
     "output_type": "stream",
     "text": [
      "Selecting training and test data\n",
      "Training using 20304 files.\n",
      "__job__: <configuration.configuration.Job object at 0x0000022AE9A04F80>\n",
      "Training the Model...\n",
      "Epoch 1/10\n",
      "\u001b[1m635/635\u001b[0m \u001b[32m━━━━━━━━━━━━━━━━━━━━\u001b[0m\u001b[37m\u001b[0m \u001b[1m41s\u001b[0m 63ms/step - accuracy: 0.8776 - loss: 7.3009 - val_accuracy: 0.9218 - val_loss: 0.1910\n",
      "Epoch 2/10\n",
      "\u001b[1m635/635\u001b[0m \u001b[32m━━━━━━━━━━━━━━━━━━━━\u001b[0m\u001b[37m\u001b[0m \u001b[1m40s\u001b[0m 62ms/step - accuracy: 0.9220 - loss: 0.1939 - val_accuracy: 0.9567 - val_loss: 0.1114\n",
      "Epoch 3/10\n",
      "\u001b[1m635/635\u001b[0m \u001b[32m━━━━━━━━━━━━━━━━━━━━\u001b[0m\u001b[37m\u001b[0m \u001b[1m40s\u001b[0m 64ms/step - accuracy: 0.9405 - loss: 0.1570 - val_accuracy: 0.9779 - val_loss: 0.0634\n",
      "Epoch 4/10\n",
      "\u001b[1m635/635\u001b[0m \u001b[32m━━━━━━━━━━━━━━━━━━━━\u001b[0m\u001b[37m\u001b[0m \u001b[1m41s\u001b[0m 64ms/step - accuracy: 0.9635 - loss: 0.0971 - val_accuracy: 0.9821 - val_loss: 0.0529\n",
      "Epoch 5/10\n",
      "\u001b[1m635/635\u001b[0m \u001b[32m━━━━━━━━━━━━━━━━━━━━\u001b[0m\u001b[37m\u001b[0m \u001b[1m41s\u001b[0m 64ms/step - accuracy: 0.9692 - loss: 0.0923 - val_accuracy: 0.9846 - val_loss: 0.0451\n",
      "Epoch 6/10\n",
      "\u001b[1m635/635\u001b[0m \u001b[32m━━━━━━━━━━━━━━━━━━━━\u001b[0m\u001b[37m\u001b[0m \u001b[1m42s\u001b[0m 66ms/step - accuracy: 0.9783 - loss: 0.0631 - val_accuracy: 0.9848 - val_loss: 0.0413\n",
      "Epoch 7/10\n",
      "\u001b[1m635/635\u001b[0m \u001b[32m━━━━━━━━━━━━━━━━━━━━\u001b[0m\u001b[37m\u001b[0m \u001b[1m42s\u001b[0m 66ms/step - accuracy: 0.9839 - loss: 0.0497 - val_accuracy: 0.9860 - val_loss: 0.0399\n",
      "Epoch 8/10\n",
      "\u001b[1m635/635\u001b[0m \u001b[32m━━━━━━━━━━━━━━━━━━━━\u001b[0m\u001b[37m\u001b[0m \u001b[1m42s\u001b[0m 66ms/step - accuracy: 0.9831 - loss: 0.0483 - val_accuracy: 0.9884 - val_loss: 0.0332\n",
      "Epoch 9/10\n",
      "\u001b[1m635/635\u001b[0m \u001b[32m━━━━━━━━━━━━━━━━━━━━\u001b[0m\u001b[37m\u001b[0m \u001b[1m43s\u001b[0m 67ms/step - accuracy: 0.9885 - loss: 0.0345 - val_accuracy: 0.9720 - val_loss: 0.1217\n",
      "Epoch 10/10\n",
      "\u001b[1m635/635\u001b[0m \u001b[32m━━━━━━━━━━━━━━━━━━━━\u001b[0m\u001b[37m\u001b[0m \u001b[1m42s\u001b[0m 66ms/step - accuracy: 0.9824 - loss: 0.0533 - val_accuracy: 0.9827 - val_loss: 0.0499\n",
      "Saving model: ASVspoof-2019-1_2025-03-19T22-03-42.178503.libjob\n"
     ]
    }
   ],
   "source": [
    "trainingProc = BasicModelTrainingProcessor(job, model_cnn_definition.ModelCnnDefinition)\n",
    "model, X_train, X_test, y_train, y_test = trainingProc.process(X, y_encoded, 1)"
   ]
  },
  {
   "cell_type": "markdown",
   "metadata": {},
   "source": [
    "### Test Model"
   ]
  },
  {
   "cell_type": "code",
   "execution_count": 5,
   "metadata": {},
   "outputs": [
    {
     "name": "stdout",
     "output_type": "stream",
     "text": [
      "\u001b[1m159/159\u001b[0m \u001b[32m━━━━━━━━━━━━━━━━━━━━\u001b[0m\u001b[37m\u001b[0m \u001b[1m3s\u001b[0m 16ms/step\n",
      "job completed: 2025-03-20T03:15:31.873522+00:00\n",
      "model file: ASVspoof-2019-1_2025-03-19T22-03-42.178503.libjob\n",
      "test file count: 5076\n",
      "accuracy_score: 0.9826635145784082\n",
      "\n",
      "job: {\n",
      "    \"jobId\": \"ASVspoof-2019-1\",\n",
      "    \"dataPathRootRaw\": \"$HOMEDRIVE$HOMEPATH/workspace/Deepfake/data/ASVspoof-2019\",\n",
      "    \"dataPathRoot\": \"C:/Users/tubas/workspace/Deepfake/data/ASVspoof-2019\",\n",
      "    \"dataPathSuffix\": \"LA/ASVspoof2019_LA_train/flac\",\n",
      "    \"dataExtension\": \".flac\",\n",
      "    \"labelFilename\": \"LA/ASVspoof2019_LA_cm_protocols/ASVspoof2019.LA.cm.train.trn.txt\",\n",
      "    \"executeToCategoricalForLabels\": true,\n",
      "    \"numClasses\": 2,\n",
      "    \"sampleRate\": 16000,\n",
      "    \"duration\": 5,\n",
      "    \"numMels\": 128,\n",
      "    \"maxTimeSteps\": 109,\n",
      "    \"optimizer\": \"adam\",\n",
      "    \"loss\": \"categorical_crossentropy\",\n",
      "    \"metrics\": [\n",
      "        \"accuracy\"\n",
      "    ],\n",
      "    \"batchSize\": 32,\n",
      "    \"numEpochs\": 10,\n",
      "    \"newModelGenerated\": true,\n",
      "    \"persistedModel\": \"ASVspoof-2019-1_2025-03-19T22-03-42.178503.libjob\",\n",
      "    \"persistedModelResults\": \"ASVspoof-2019-1_2025-03-19T22-03-42.178503.txt\"\n",
      "}\n",
      "\n"
     ]
    }
   ],
   "source": [
    "evaluationProc = BasicModelEvaluationProcessor(job, model)\n",
    "evaluationProc.process(X_test, y_test)"
   ]
  }
 ],
 "metadata": {
  "kernelspec": {
   "display_name": "audio-deepfake-detection",
   "language": "python",
   "name": "python3"
  },
  "language_info": {
   "codemirror_mode": {
    "name": "ipython",
    "version": 3
   },
   "file_extension": ".py",
   "mimetype": "text/x-python",
   "name": "python",
   "nbconvert_exporter": "python",
   "pygments_lexer": "ipython3",
   "version": "3.12.3"
  }
 },
 "nbformat": 4,
 "nbformat_minor": 2
}
