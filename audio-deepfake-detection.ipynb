{
 "cells": [
  {
   "cell_type": "code",
   "execution_count": 1,
   "metadata": {},
   "outputs": [],
   "source": [
    "import joblib\n",
    "import numpy as np\n",
    "import librosa\n",
    "import tensorflow as tf\n",
    "from sklearn.model_selection import train_test_split\n",
    "from tensorflow.keras.utils import to_categorical\n",
    "\n",
    "import configuration.configuration as configuration\n",
    "from mel_spectrogram.mel_spectrogram import MelSpectrogramGenerator\n",
    "from notebook_utils import notebookToPython\n",
    "from readers.label_reader import readTrainingLabelsWithJob"
   ]
  },
  {
   "cell_type": "code",
   "execution_count": 2,
   "metadata": {},
   "outputs": [
    {
     "name": "stdout",
     "output_type": "stream",
     "text": [
      "Write python file\n"
     ]
    }
   ],
   "source": [
    "config = configuration.ConfigLoader('config.yml')\n",
    "\n",
    "notebookToPython(config.projectName)\n",
    "job = config.getJobConfig(config.activeJobId)"
   ]
  },
  {
   "cell_type": "code",
   "execution_count": 3,
   "metadata": {},
   "outputs": [
    {
     "name": "stdout",
     "output_type": "stream",
     "text": [
      "Loading C:/Users/tubas/workspace/Deepfake/data/ASVspoof-2019/LA/ASVspoof2019_LA_cm_protocols/ASVspoof2019.LA.cm.train.trn.txt...\n",
      "fullDataPath: C:/Users/tubas/workspace/Deepfake/data/ASVspoof-2019/LA/ASVspoof2019_LA_train/flac\n",
      "Loading audio files: 1269\n",
      "Loading audio files: 2538\n",
      "Loading audio files: 3807\n",
      "Loading audio files: 5076\n",
      "Loading audio files: 6345\n",
      "Loading audio files: 7614\n",
      "Loading audio files: 8883\n",
      "Loading audio files: 10152\n",
      "Loading audio files: 11421\n",
      "Loading audio files: 12690\n",
      "Loading audio files: 13959\n",
      "Loading audio files: 15228\n",
      "Loading audio files: 16497\n",
      "Loading audio files: 17766\n",
      "Loading audio files: 19035\n",
      "Loading audio files: 20304\n",
      "Loading audio files: 21573\n",
      "Loading audio files: 22842\n",
      "Loading audio files: 24111\n",
      "Loading audio files: 25380\n",
      "Number of audio files load: 25380\n"
     ]
    }
   ],
   "source": [
    "generator = MelSpectrogramGenerator()\n",
    "X, y_encoded = generator.generateMelSpectrograms(job, job.trainingDataPathSuffix)"
   ]
  },
  {
   "cell_type": "code",
   "execution_count": 4,
   "metadata": {},
   "outputs": [],
   "source": [
    "X_train, X_test, y_train, y_test = train_test_split(X, y_encoded, test_size=0.2)    # test data is 20% of all data"
   ]
  },
  {
   "cell_type": "code",
   "execution_count": 5,
   "metadata": {},
   "outputs": [
    {
     "name": "stdout",
     "output_type": "stream",
     "text": [
      "__job__: <configuration.configuration.Job object at 0x000002DFD259B380>\n"
     ]
    }
   ],
   "source": [
    "import model_definitions.model_cnn_definition as model_cnn_definition\n",
    "\n",
    "modelDef = model_cnn_definition.ModelCnnDefinition(job, X_train.shape[2], 1)\n",
    "model = modelDef.buildModel()"
   ]
  },
  {
   "cell_type": "code",
   "execution_count": 6,
   "metadata": {},
   "outputs": [],
   "source": [
    "model.compile(optimizer=job.optimizer, loss=job.loss, metrics=job.metrics)"
   ]
  },
  {
   "cell_type": "code",
   "execution_count": 7,
   "metadata": {},
   "outputs": [
    {
     "name": "stdout",
     "output_type": "stream",
     "text": [
      "Epoch 1/10\n",
      "\u001b[1m635/635\u001b[0m \u001b[32m━━━━━━━━━━━━━━━━━━━━\u001b[0m\u001b[37m\u001b[0m \u001b[1m39s\u001b[0m 60ms/step - accuracy: 0.8843 - loss: 6.2471 - val_accuracy: 0.9003 - val_loss: 0.2382\n",
      "Epoch 2/10\n",
      "\u001b[1m635/635\u001b[0m \u001b[32m━━━━━━━━━━━━━━━━━━━━\u001b[0m\u001b[37m\u001b[0m \u001b[1m40s\u001b[0m 62ms/step - accuracy: 0.9060 - loss: 0.2367 - val_accuracy: 0.9086 - val_loss: 0.2301\n",
      "Epoch 3/10\n",
      "\u001b[1m635/635\u001b[0m \u001b[32m━━━━━━━━━━━━━━━━━━━━\u001b[0m\u001b[37m\u001b[0m \u001b[1m38s\u001b[0m 60ms/step - accuracy: 0.9141 - loss: 0.2096 - val_accuracy: 0.9194 - val_loss: 0.1982\n",
      "Epoch 4/10\n",
      "\u001b[1m635/635\u001b[0m \u001b[32m━━━━━━━━━━━━━━━━━━━━\u001b[0m\u001b[37m\u001b[0m \u001b[1m39s\u001b[0m 62ms/step - accuracy: 0.9277 - loss: 0.1819 - val_accuracy: 0.9287 - val_loss: 0.1746\n",
      "Epoch 5/10\n",
      "\u001b[1m635/635\u001b[0m \u001b[32m━━━━━━━━━━━━━━━━━━━━\u001b[0m\u001b[37m\u001b[0m \u001b[1m40s\u001b[0m 62ms/step - accuracy: 0.9379 - loss: 0.1594 - val_accuracy: 0.9634 - val_loss: 0.1065\n",
      "Epoch 6/10\n",
      "\u001b[1m635/635\u001b[0m \u001b[32m━━━━━━━━━━━━━━━━━━━━\u001b[0m\u001b[37m\u001b[0m \u001b[1m40s\u001b[0m 62ms/step - accuracy: 0.9536 - loss: 0.1251 - val_accuracy: 0.9740 - val_loss: 0.0752\n",
      "Epoch 7/10\n",
      "\u001b[1m635/635\u001b[0m \u001b[32m━━━━━━━━━━━━━━━━━━━━\u001b[0m\u001b[37m\u001b[0m \u001b[1m40s\u001b[0m 62ms/step - accuracy: 0.9711 - loss: 0.0821 - val_accuracy: 0.9750 - val_loss: 0.0684\n",
      "Epoch 8/10\n",
      "\u001b[1m635/635\u001b[0m \u001b[32m━━━━━━━━━━━━━━━━━━━━\u001b[0m\u001b[37m\u001b[0m \u001b[1m40s\u001b[0m 64ms/step - accuracy: 0.9764 - loss: 0.0654 - val_accuracy: 0.9180 - val_loss: 0.2188\n",
      "Epoch 9/10\n",
      "\u001b[1m635/635\u001b[0m \u001b[32m━━━━━━━━━━━━━━━━━━━━\u001b[0m\u001b[37m\u001b[0m \u001b[1m41s\u001b[0m 64ms/step - accuracy: 0.9727 - loss: 0.0813 - val_accuracy: 0.9703 - val_loss: 0.0828\n",
      "Epoch 10/10\n",
      "\u001b[1m635/635\u001b[0m \u001b[32m━━━━━━━━━━━━━━━━━━━━\u001b[0m\u001b[37m\u001b[0m \u001b[1m43s\u001b[0m 67ms/step - accuracy: 0.9806 - loss: 0.0555 - val_accuracy: 0.9766 - val_loss: 0.0627\n"
     ]
    },
    {
     "data": {
      "text/plain": [
       "<keras.src.callbacks.history.History at 0x2dfd25a9a00>"
      ]
     },
     "execution_count": 7,
     "metadata": {},
     "output_type": "execute_result"
    }
   ],
   "source": [
    "# Train the Model\n",
    "model.fit(X_train, y_train, batch_size=job.batchSize, epochs=job.numEpochs, validation_data=(X_test, y_test))"
   ]
  },
  {
   "cell_type": "code",
   "execution_count": 8,
   "metadata": {},
   "outputs": [
    {
     "data": {
      "text/plain": [
       "['ASVspoof-2019-1_2025-03-16T18-16-03.333177.libjob']"
      ]
     },
     "execution_count": 8,
     "metadata": {},
     "output_type": "execute_result"
    }
   ],
   "source": [
    "joblib.dump(model, job.persistedModel)"
   ]
  },
  {
   "cell_type": "markdown",
   "metadata": {},
   "source": [
    "### Test Model"
   ]
  },
  {
   "cell_type": "code",
   "execution_count": 9,
   "metadata": {},
   "outputs": [],
   "source": [
    "import joblib\n",
    "import numpy as np\n",
    "import tensorflow as tf\n",
    "from sklearn.model_selection import train_test_split\n",
    "from sklearn.metrics import accuracy_score\n",
    "from tensorflow.keras.layers import Input, Conv2D, MaxPooling2D, Flatten, Dense, Dropout\n",
    "from tensorflow.keras.models import Model\n",
    "from tensorflow.keras.utils import to_categorical\n",
    "\n",
    "import configuration.configuration as configuration\n",
    "from notebook_utils import notebookToPython\n",
    "from readers.label_reader import readLabelsWithJob"
   ]
  },
  {
   "cell_type": "code",
   "execution_count": 10,
   "metadata": {},
   "outputs": [
    {
     "name": "stdout",
     "output_type": "stream",
     "text": [
      "Write python file\n"
     ]
    }
   ],
   "source": [
    "oldJob = job\n",
    "config = configuration.ConfigLoader('config.yml')\n",
    "\n",
    "notebookToPython(config.projectName)\n",
    "job = config.getJobConfig(config.activeJobId)\n",
    "\n",
    "if (len(oldJob.persistedModel) > 0 and oldJob.persistedModel != job.persistedModel):\n",
    "    job.persistedModel = oldJob.persistedModel\n"
   ]
  },
  {
   "cell_type": "code",
   "execution_count": 11,
   "metadata": {},
   "outputs": [],
   "source": [
    "model = joblib.load(job.persistedModel)"
   ]
  },
  {
   "cell_type": "code",
   "execution_count": 12,
   "metadata": {},
   "outputs": [
    {
     "name": "stdout",
     "output_type": "stream",
     "text": [
      "\u001b[1m159/159\u001b[0m \u001b[32m━━━━━━━━━━━━━━━━━━━━\u001b[0m\u001b[37m\u001b[0m \u001b[1m3s\u001b[0m 16ms/step\n"
     ]
    },
    {
     "data": {
      "text/plain": [
       "array([0, 0, 0, ..., 0, 0, 0])"
      ]
     },
     "execution_count": 12,
     "metadata": {},
     "output_type": "execute_result"
    }
   ],
   "source": [
    "y_pred = model.predict(X_test)\n",
    "y_pred = np.argmax(y_pred, axis=1)\n",
    "y_test = np.argmax(y_test, axis=1)\n",
    "y_pred"
   ]
  },
  {
   "cell_type": "code",
   "execution_count": 13,
   "metadata": {},
   "outputs": [
    {
     "data": {
      "text/plain": [
       "array([0, 0, 0, ..., 0, 0, 0])"
      ]
     },
     "execution_count": 13,
     "metadata": {},
     "output_type": "execute_result"
    }
   ],
   "source": [
    "y_test"
   ]
  },
  {
   "cell_type": "code",
   "execution_count": 14,
   "metadata": {},
   "outputs": [],
   "source": [
    "import json\n",
    "from datetime import datetime\n",
    "import pytz\n",
    "\n",
    "score = accuracy_score(y_test, y_pred)\n",
    "\n",
    "timestamp_utc = datetime.now(pytz.utc)\n",
    "\n",
    "with open(job.persistedModelResults, \"w\") as file:\n",
    "    file.write(f\"job completed: {timestamp_utc.isoformat()}\\n\")\n",
    "    file.write(f\"model file: {job.persistedModel}\\n\")\n",
    "    file.write(f\"accuracy_score: {score}\\n\\n\")\n",
    "    prettyJson = json.dumps(job.__dict__, indent=4)\n",
    "    file.write(f\"job: {prettyJson}\\n\")"
   ]
  }
 ],
 "metadata": {
  "kernelspec": {
   "display_name": "audio-deepfake-detection",
   "language": "python",
   "name": "python3"
  },
  "language_info": {
   "codemirror_mode": {
    "name": "ipython",
    "version": 3
   },
   "file_extension": ".py",
   "mimetype": "text/x-python",
   "name": "python",
   "nbconvert_exporter": "python",
   "pygments_lexer": "ipython3",
   "version": "3.12.3"
  }
 },
 "nbformat": 4,
 "nbformat_minor": 2
}
