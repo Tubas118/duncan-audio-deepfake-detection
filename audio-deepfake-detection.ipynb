{
 "cells": [
  {
   "cell_type": "code",
   "execution_count": 1,
   "metadata": {},
   "outputs": [],
   "source": [
    "import joblib\n",
    "from sklearn.model_selection import train_test_split\n",
    "\n",
    "import configuration.configuration as configuration\n",
    "from mel_spectrogram.mel_spectrogram import MelSpectrogramGenerator\n",
    "from notebook_utils import notebookToPython"
   ]
  },
  {
   "cell_type": "code",
   "execution_count": 2,
   "metadata": {},
   "outputs": [
    {
     "name": "stdout",
     "output_type": "stream",
     "text": [
      "Write python file\n",
      "Generating new model name: ASVspoof-2019-1_2025-03-16T21-46-18.789612.libjob\n",
      "Assigned model name: ASVspoof-2019-1_2025-03-16T21-46-18.789612.libjob\n"
     ]
    }
   ],
   "source": [
    "config = configuration.ConfigLoader('config.yml')\n",
    "\n",
    "notebookToPython(config.projectName)\n",
    "job = config.getJobConfig(config.activeJobId)"
   ]
  },
  {
   "cell_type": "code",
   "execution_count": 3,
   "metadata": {},
   "outputs": [
    {
     "name": "stdout",
     "output_type": "stream",
     "text": [
      "Loading C:/Users/tubas/workspace/Deepfake/data/ASVspoof-2019/LA/ASVspoof2019_LA_cm_protocols/ASVspoof2019.LA.cm.train.trn.txt...\n",
      "fullDataPath: C:/Users/tubas/workspace/Deepfake/data/ASVspoof-2019/LA/ASVspoof2019_LA_train/flac\n",
      "Loading audio files: 1269\n",
      "Loading audio files: 2538\n",
      "Loading audio files: 3807\n",
      "Loading audio files: 5076\n",
      "Loading audio files: 6345\n",
      "Loading audio files: 7614\n",
      "Loading audio files: 8883\n",
      "Loading audio files: 10152\n",
      "Loading audio files: 11421\n",
      "Loading audio files: 12690\n",
      "Loading audio files: 13959\n",
      "Loading audio files: 15228\n",
      "Loading audio files: 16497\n",
      "Loading audio files: 17766\n",
      "Loading audio files: 19035\n",
      "Loading audio files: 20304\n",
      "Loading audio files: 21573\n",
      "Loading audio files: 22842\n",
      "Loading audio files: 24111\n",
      "Loading audio files: 25380\n",
      "Number of audio files load: 25380\n"
     ]
    }
   ],
   "source": [
    "generator = MelSpectrogramGenerator()\n",
    "X, y_encoded = generator.generateMelSpectrograms(job, job.dataPathSuffix)"
   ]
  },
  {
   "cell_type": "code",
   "execution_count": 4,
   "metadata": {},
   "outputs": [],
   "source": [
    "X_train, X_test, y_train, y_test = train_test_split(X, y_encoded, test_size=0.2)    # test data is 20% of all data"
   ]
  },
  {
   "cell_type": "code",
   "execution_count": 5,
   "metadata": {},
   "outputs": [
    {
     "name": "stdout",
     "output_type": "stream",
     "text": [
      "__job__: <configuration.configuration.Job object at 0x000002307D3DE570>\n"
     ]
    }
   ],
   "source": [
    "import model_definitions.model_cnn_definition as model_cnn_definition\n",
    "\n",
    "modelDef = model_cnn_definition.ModelCnnDefinition(job, X_train.shape[2], 1)\n",
    "model = modelDef.buildModel()"
   ]
  },
  {
   "cell_type": "code",
   "execution_count": 6,
   "metadata": {},
   "outputs": [],
   "source": [
    "model.compile(optimizer=job.optimizer, loss=job.loss, metrics=job.metrics)"
   ]
  },
  {
   "cell_type": "code",
   "execution_count": 7,
   "metadata": {},
   "outputs": [
    {
     "name": "stdout",
     "output_type": "stream",
     "text": [
      "Epoch 1/10\n",
      "\u001b[1m635/635\u001b[0m \u001b[32m━━━━━━━━━━━━━━━━━━━━\u001b[0m\u001b[37m\u001b[0m \u001b[1m52s\u001b[0m 79ms/step - accuracy: 0.8802 - loss: 2.6590 - val_accuracy: 0.9271 - val_loss: 0.1987\n",
      "Epoch 2/10\n",
      "\u001b[1m635/635\u001b[0m \u001b[32m━━━━━━━━━━━━━━━━━━━━\u001b[0m\u001b[37m\u001b[0m \u001b[1m49s\u001b[0m 78ms/step - accuracy: 0.9085 - loss: 0.2257 - val_accuracy: 0.9401 - val_loss: 0.1572\n",
      "Epoch 3/10\n",
      "\u001b[1m635/635\u001b[0m \u001b[32m━━━━━━━━━━━━━━━━━━━━\u001b[0m\u001b[37m\u001b[0m \u001b[1m49s\u001b[0m 78ms/step - accuracy: 0.9398 - loss: 0.1587 - val_accuracy: 0.9411 - val_loss: 0.1590\n",
      "Epoch 4/10\n",
      "\u001b[1m635/635\u001b[0m \u001b[32m━━━━━━━━━━━━━━━━━━━━\u001b[0m\u001b[37m\u001b[0m \u001b[1m50s\u001b[0m 78ms/step - accuracy: 0.9559 - loss: 0.1141 - val_accuracy: 0.9758 - val_loss: 0.0733\n",
      "Epoch 5/10\n",
      "\u001b[1m635/635\u001b[0m \u001b[32m━━━━━━━━━━━━━━━━━━━━\u001b[0m\u001b[37m\u001b[0m \u001b[1m50s\u001b[0m 78ms/step - accuracy: 0.9718 - loss: 0.0800 - val_accuracy: 0.9752 - val_loss: 0.0755\n",
      "Epoch 6/10\n",
      "\u001b[1m635/635\u001b[0m \u001b[32m━━━━━━━━━━━━━━━━━━━━\u001b[0m\u001b[37m\u001b[0m \u001b[1m50s\u001b[0m 78ms/step - accuracy: 0.9753 - loss: 0.0694 - val_accuracy: 0.9732 - val_loss: 0.0783\n",
      "Epoch 7/10\n",
      "\u001b[1m635/635\u001b[0m \u001b[32m━━━━━━━━━━━━━━━━━━━━\u001b[0m\u001b[37m\u001b[0m \u001b[1m50s\u001b[0m 79ms/step - accuracy: 0.9768 - loss: 0.0614 - val_accuracy: 0.9785 - val_loss: 0.0654\n",
      "Epoch 8/10\n",
      "\u001b[1m635/635\u001b[0m \u001b[32m━━━━━━━━━━━━━━━━━━━━\u001b[0m\u001b[37m\u001b[0m \u001b[1m82s\u001b[0m 79ms/step - accuracy: 0.9841 - loss: 0.0437 - val_accuracy: 0.9805 - val_loss: 0.0698\n",
      "Epoch 9/10\n",
      "\u001b[1m635/635\u001b[0m \u001b[32m━━━━━━━━━━━━━━━━━━━━\u001b[0m\u001b[37m\u001b[0m \u001b[1m49s\u001b[0m 77ms/step - accuracy: 0.9812 - loss: 0.0479 - val_accuracy: 0.9797 - val_loss: 0.0751\n",
      "Epoch 10/10\n",
      "\u001b[1m635/635\u001b[0m \u001b[32m━━━━━━━━━━━━━━━━━━━━\u001b[0m\u001b[37m\u001b[0m \u001b[1m50s\u001b[0m 78ms/step - accuracy: 0.9861 - loss: 0.0401 - val_accuracy: 0.9817 - val_loss: 0.0689\n"
     ]
    },
    {
     "data": {
      "text/plain": [
       "<keras.src.callbacks.history.History at 0x2307c981160>"
      ]
     },
     "execution_count": 7,
     "metadata": {},
     "output_type": "execute_result"
    }
   ],
   "source": [
    "# Train the Model\n",
    "model.fit(X_train, y_train, batch_size=job.batchSize, epochs=job.numEpochs, validation_data=(X_test, y_test))"
   ]
  },
  {
   "cell_type": "code",
   "execution_count": 8,
   "metadata": {},
   "outputs": [
    {
     "data": {
      "text/plain": [
       "['ASVspoof-2019-1_2025-03-16T21-46-18.789612.libjob']"
      ]
     },
     "execution_count": 8,
     "metadata": {},
     "output_type": "execute_result"
    }
   ],
   "source": [
    "joblib.dump(model, job.persistedModel)"
   ]
  },
  {
   "cell_type": "markdown",
   "metadata": {},
   "source": [
    "### Test Model"
   ]
  },
  {
   "cell_type": "code",
   "execution_count": 9,
   "metadata": {},
   "outputs": [],
   "source": [
    "import joblib\n",
    "import numpy as np\n",
    "import tensorflow as tf\n",
    "from sklearn.model_selection import train_test_split\n",
    "from sklearn.metrics import accuracy_score\n",
    "from tensorflow.keras.layers import Input, Conv2D, MaxPooling2D, Flatten, Dense, Dropout\n",
    "from tensorflow.keras.models import Model\n",
    "from tensorflow.keras.utils import to_categorical\n",
    "\n",
    "import configuration.configuration as configuration\n",
    "from notebook_utils import notebookToPython\n",
    "from readers.label_reader import readLabelsWithJob"
   ]
  },
  {
   "cell_type": "code",
   "execution_count": 10,
   "metadata": {},
   "outputs": [
    {
     "name": "stdout",
     "output_type": "stream",
     "text": [
      "Write python file\n",
      "Generating new model name: ASVspoof-2019-1_2025-03-16T22-04-26.041701.libjob\n",
      "Assigned model name: ASVspoof-2019-1_2025-03-16T22-04-26.041701.libjob\n",
      "Loading previously generated model: ASVspoof-2019-1_2025-03-16T21-46-18.789612.libjob\n"
     ]
    }
   ],
   "source": [
    "oldJob = job\n",
    "config = configuration.ConfigLoader('config.yml')\n",
    "\n",
    "notebookToPython(config.projectName)\n",
    "job = config.getJobConfig(config.activeJobId)\n",
    "newPersistedModelResults = job.persistedModelResults\n",
    "\n",
    "if (len(oldJob.persistedModel) > 0 and oldJob.persistedModel != job.persistedModel):\n",
    "    job.persistedModel = oldJob.persistedModel\n",
    "    job.persistedModelResults = oldJob.persistedModelResults\n",
    "    print(f\"Loading previously generated model: {job.persistedModel}\")\n"
   ]
  },
  {
   "cell_type": "code",
   "execution_count": 11,
   "metadata": {},
   "outputs": [],
   "source": [
    "model = joblib.load(job.persistedModel)"
   ]
  },
  {
   "cell_type": "code",
   "execution_count": 12,
   "metadata": {},
   "outputs": [],
   "source": [
    "if (not (len(X_test ) > 0 and len(y_test) > 0)):\n",
    "    generator = MelSpectrogramGenerator()\n",
    "    X, y_encoded = generator.generateMelSpectrograms(job, job.dataPathSuffix)\n",
    "    X_test = X\n",
    "    y_test = y_encoded\n",
    "    job.persistedModelResults = newPersistedModelResults"
   ]
  },
  {
   "cell_type": "code",
   "execution_count": 13,
   "metadata": {},
   "outputs": [
    {
     "name": "stdout",
     "output_type": "stream",
     "text": [
      "\u001b[1m159/159\u001b[0m \u001b[32m━━━━━━━━━━━━━━━━━━━━\u001b[0m\u001b[37m\u001b[0m \u001b[1m3s\u001b[0m 20ms/step\n"
     ]
    },
    {
     "data": {
      "text/plain": [
       "array([1, 0, 0, ..., 0, 0, 0])"
      ]
     },
     "execution_count": 13,
     "metadata": {},
     "output_type": "execute_result"
    }
   ],
   "source": [
    "y_pred = model.predict(X_test)\n",
    "y_pred_work = np.argmax(y_pred, axis=1)\n",
    "y_test_work = np.argmax(y_test, axis=1)\n",
    "y_pred_work"
   ]
  },
  {
   "cell_type": "code",
   "execution_count": 14,
   "metadata": {},
   "outputs": [
    {
     "data": {
      "text/plain": [
       "array([1, 0, 0, ..., 0, 1, 0])"
      ]
     },
     "execution_count": 14,
     "metadata": {},
     "output_type": "execute_result"
    }
   ],
   "source": [
    "y_test_work"
   ]
  },
  {
   "cell_type": "code",
   "execution_count": 15,
   "metadata": {},
   "outputs": [],
   "source": [
    "from datetime import datetime\n",
    "import json\n",
    "import pytz\n",
    "\n",
    "score = accuracy_score(y_test_work, y_pred_work)\n",
    "\n",
    "timestamp_utc = datetime.now(pytz.utc)"
   ]
  },
  {
   "cell_type": "code",
   "execution_count": 16,
   "metadata": {},
   "outputs": [
    {
     "name": "stdout",
     "output_type": "stream",
     "text": [
      "job completed: 2025-03-17T03:04:30.002190+00:00\n",
      "model file: ASVspoof-2019-1_2025-03-16T21-46-18.789612.libjob\n",
      "accuracy_score: 0.9816784869976359\n",
      "\n",
      "job: {\n",
      "    \"jobId\": \"ASVspoof-2019-1\",\n",
      "    \"dataPathRootRaw\": \"$HOMEDRIVE$HOMEPATH/workspace/Deepfake/data/ASVspoof-2019\",\n",
      "    \"dataPathRoot\": \"C:/Users/tubas/workspace/Deepfake/data/ASVspoof-2019\",\n",
      "    \"dataPathSuffix\": \"LA/ASVspoof2019_LA_train/flac\",\n",
      "    \"dataExtension\": \".flac\",\n",
      "    \"labelFilename\": \"LA/ASVspoof2019_LA_cm_protocols/ASVspoof2019.LA.cm.train.trn.txt\",\n",
      "    \"executeToCategoricalForLabels\": true,\n",
      "    \"numClasses\": 2,\n",
      "    \"sampleRate\": 16000,\n",
      "    \"duration\": 5,\n",
      "    \"numMels\": 128,\n",
      "    \"maxTimeSteps\": 109,\n",
      "    \"optimizer\": \"adam\",\n",
      "    \"loss\": \"categorical_crossentropy\",\n",
      "    \"metrics\": [\n",
      "        \"accuracy\"\n",
      "    ],\n",
      "    \"batchSize\": 32,\n",
      "    \"numEpochs\": 10,\n",
      "    \"persistedModel\": \"ASVspoof-2019-1_2025-03-16T21-46-18.789612.libjob\",\n",
      "    \"persistedModelResults\": \"ASVspoof-2019-1_2025-03-16T21-46-18.789612.txt\"\n",
      "}\n",
      "\n"
     ]
    }
   ],
   "source": [
    "prettyJson = json.dumps(job.__dict__, indent=4)\n",
    "\n",
    "report = f\"job completed: {timestamp_utc.isoformat()}\\n\"\n",
    "report = report + f\"model file: {job.persistedModel}\\n\"\n",
    "report = report + f\"accuracy_score: {score}\\n\\n\"\n",
    "report = report + f\"job: {prettyJson}\\n\"\n",
    "\n",
    "print(report)\n",
    "\n",
    "with open(job.persistedModelResults, \"w\") as file:\n",
    "    file.write(report)"
   ]
  }
 ],
 "metadata": {
  "kernelspec": {
   "display_name": "audio-deepfake-detection",
   "language": "python",
   "name": "python3"
  },
  "language_info": {
   "codemirror_mode": {
    "name": "ipython",
    "version": 3
   },
   "file_extension": ".py",
   "mimetype": "text/x-python",
   "name": "python",
   "nbconvert_exporter": "python",
   "pygments_lexer": "ipython3",
   "version": "3.12.3"
  }
 },
 "nbformat": 4,
 "nbformat_minor": 2
}
