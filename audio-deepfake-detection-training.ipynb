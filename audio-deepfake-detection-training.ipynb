{
 "cells": [
  {
   "cell_type": "code",
   "execution_count": 1,
   "metadata": {},
   "outputs": [],
   "source": [
    "from config.configuration import RunDetails\n",
    "\n",
    "# runDetail = RunDetails('config.yml', 'ASVspoof-2019_training')\n",
    "# runDetail = RunDetails('config-mfcc.yml', 'ASVspoof-2019_training_mfcc')\n",
    "runDetail = RunDetails('config.yml', 'ASVspoof-2019_small-eval-1')\n",
    "\n",
    "notebookName = 'audio-deepfake-detection-training'"
   ]
  },
  {
   "cell_type": "code",
   "execution_count": 2,
   "metadata": {},
   "outputs": [],
   "source": [
    "configFilename = runDetail.configFilename\n",
    "runJobId = runDetail.jobId"
   ]
  },
  {
   "cell_type": "code",
   "execution_count": 3,
   "metadata": {},
   "outputs": [],
   "source": [
    "import config.configuration as configuration\n",
    "import model_definitions.model_cnn_definition as model_cnn_definition\n",
    "from preprocessors.preprocessor_factory import PreprocessorFactory\n",
    "from notebook_utils import notebookToPython\n",
    "from processors.basic_model_training_processor import BasicModelTrainingProcessor\n",
    "from processors.basic_model_evaluation_processor import BasicModelEvaluationProcessor"
   ]
  },
  {
   "cell_type": "code",
   "execution_count": 4,
   "metadata": {},
   "outputs": [
    {
     "name": "stdout",
     "output_type": "stream",
     "text": [
      "Write python file\n",
      "Generating new model name: output/ASVspoof-2019_small-eval-1_2025-04-01T12-13-55.954611.libjob\n",
      "Assigned model name: output/ASVspoof-2019_small-eval-1_2025-04-01T12-13-55.954611.libjob\n"
     ]
    }
   ],
   "source": [
    "config = configuration.ConfigLoader(configFilename)\n",
    "\n",
    "notebookToPython(notebookName)\n",
    "job = config.getJobConfig(runJobId)\n",
    "\n",
    "if (job.newModelGenerated == False):\n",
    "    raise ValueError(\"This notebook is meant for training. Select a job without a value for 'persisted-model' set.\")"
   ]
  },
  {
   "cell_type": "code",
   "execution_count": 5,
   "metadata": {},
   "outputs": [
    {
     "name": "stdout",
     "output_type": "stream",
     "text": [
      "MelSpectrogramPreprocessor\n"
     ]
    }
   ],
   "source": [
    "preproc_factory = PreprocessorFactory()\n",
    "preprocessor = preproc_factory.newPreprocessor(job.preprocessor)\n"
   ]
  },
  {
   "cell_type": "code",
   "execution_count": 6,
   "metadata": {},
   "outputs": [
    {
     "name": "stdout",
     "output_type": "stream",
     "text": [
      "Loading C:/Users/tubas/workspace/Deepfake/data/ASVspoof-2019/LA/ASVspoof2019_LA_cm_protocols/ASVspoof2019.LA.cm.eval-small.trl.txt...\n",
      "fullDataPath: C:/Users/tubas/workspace/Deepfake/data/ASVspoof-2019/LA/ASVspoof2019_LA_eval_small/flac\n",
      "Loading audio files: 1\n",
      "Loading audio files: 2\n",
      "Loading audio files: 3\n",
      "Loading audio files: 4\n",
      "Number of audio files load: 4\n"
     ]
    }
   ],
   "source": [
    "X, y_encoded = preprocessor.extract_features_multipleSource(job, job.dataPathSuffix)"
   ]
  },
  {
   "cell_type": "code",
   "execution_count": 7,
   "metadata": {},
   "outputs": [
    {
     "name": "stdout",
     "output_type": "stream",
     "text": [
      "Selecting training and test data - traininSplitRandomState: 3\n",
      "Training using 3 files.\n",
      "    def buildModel(self) -> Model:\n",
      "        print(f\"__job__: {self.__job__}\")\n",
      "        input_shape = (self.__job__.numMels, self.width, self.channels)\n",
      "        model_input = Input(shape = input_shape)\n",
      "        job = self.__job__\n",
      "\n",
      "        # Derived from:\n",
      "        # Anagha, R., Arya, A., Narayan, V. H., Abhishek, S., & Anjali, T. (2023).\n",
      "        #   Audio Deepfake Detection Using Deep Learning.\n",
      "        #   2023 12th International Conference on System Modeling & Advancement in Research Trends (SMART), System Modeling & Advancement in Research Trends (SMART), 2023 12th International Conference On, 176–181.\n",
      "        #   https://doi.org/10.1109/SMART59791.2023.10428163\n",
      "        x = Conv2D(filters=32, kernel_size=job.kernelSize, activation='relu')(model_input)\n",
      "        x = MaxPooling2D(pool_size=job.poolSize)(x)\n",
      "        x = Conv2D(filters=64, kernel_size=job.kernelSize, activation='relu')(x)\n",
      "        x = MaxPooling2D(pool_size=job.poolSize)(x)\n",
      "        x = Flatten()(x)\n",
      "        x = Dense(units=128, activation='relu')(x)\n",
      "        x = Dropout(0.5)(x)\n",
      "\n",
      "        model_output = Dense(self.__job__.numClasses, activation='softmax')(x)\n",
      "\n",
      "        return Model(inputs=model_input, outputs=model_output)\n",
      "\n",
      "Model definition:\n",
      "None\n",
      "__job__: <config.configuration.Job object at 0x00000149DE47A210>\n",
      "Training the Model...\n",
      "Epoch 1/10\n",
      "\u001b[1m1/1\u001b[0m \u001b[32m━━━━━━━━━━━━━━━━━━━━\u001b[0m\u001b[37m\u001b[0m \u001b[1m1s\u001b[0m 1s/step - accuracy: 0.3333 - loss: 23.5248 - val_accuracy: 1.0000 - val_loss: 0.0000e+00\n",
      "Epoch 2/10\n",
      "\u001b[1m1/1\u001b[0m \u001b[32m━━━━━━━━━━━━━━━━━━━━\u001b[0m\u001b[37m\u001b[0m \u001b[1m0s\u001b[0m 96ms/step - accuracy: 0.6667 - loss: 69.7727 - val_accuracy: 0.0000e+00 - val_loss: 78.8014\n",
      "Epoch 3/10\n",
      "\u001b[1m1/1\u001b[0m \u001b[32m━━━━━━━━━━━━━━━━━━━━\u001b[0m\u001b[37m\u001b[0m \u001b[1m0s\u001b[0m 93ms/step - accuracy: 1.0000 - loss: 0.0000e+00 - val_accuracy: 0.0000e+00 - val_loss: 170.2606\n",
      "Epoch 4/10\n",
      "\u001b[1m1/1\u001b[0m \u001b[32m━━━━━━━━━━━━━━━━━━━━\u001b[0m\u001b[37m\u001b[0m \u001b[1m0s\u001b[0m 85ms/step - accuracy: 0.3333 - loss: 139.1357 - val_accuracy: 0.0000e+00 - val_loss: 84.8441\n",
      "Epoch 5/10\n",
      "\u001b[1m1/1\u001b[0m \u001b[32m━━━━━━━━━━━━━━━━━━━━\u001b[0m\u001b[37m\u001b[0m \u001b[1m0s\u001b[0m 100ms/step - accuracy: 0.6667 - loss: 33.4185 - val_accuracy: 0.0000e+00 - val_loss: 119.7136\n",
      "Epoch 6/10\n",
      "\u001b[1m1/1\u001b[0m \u001b[32m━━━━━━━━━━━━━━━━━━━━\u001b[0m\u001b[37m\u001b[0m \u001b[1m0s\u001b[0m 93ms/step - accuracy: 0.6667 - loss: 49.2917 - val_accuracy: 0.0000e+00 - val_loss: 210.2721\n",
      "Epoch 7/10\n",
      "\u001b[1m1/1\u001b[0m \u001b[32m━━━━━━━━━━━━━━━━━━━━\u001b[0m\u001b[37m\u001b[0m \u001b[1m0s\u001b[0m 88ms/step - accuracy: 0.6667 - loss: 113.3400 - val_accuracy: 0.0000e+00 - val_loss: 220.8309\n",
      "Epoch 8/10\n",
      "\u001b[1m1/1\u001b[0m \u001b[32m━━━━━━━━━━━━━━━━━━━━\u001b[0m\u001b[37m\u001b[0m \u001b[1m0s\u001b[0m 95ms/step - accuracy: 0.6667 - loss: 27.4886 - val_accuracy: 0.0000e+00 - val_loss: 165.6927\n",
      "Epoch 9/10\n",
      "\u001b[1m1/1\u001b[0m \u001b[32m━━━━━━━━━━━━━━━━━━━━\u001b[0m\u001b[37m\u001b[0m \u001b[1m0s\u001b[0m 90ms/step - accuracy: 0.6667 - loss: 146.9124 - val_accuracy: 0.0000e+00 - val_loss: 88.2145\n",
      "Epoch 10/10\n",
      "\u001b[1m1/1\u001b[0m \u001b[32m━━━━━━━━━━━━━━━━━━━━\u001b[0m\u001b[37m\u001b[0m \u001b[1m0s\u001b[0m 100ms/step - accuracy: 1.0000 - loss: 0.0000e+00 - val_accuracy: 0.0000e+00 - val_loss: 33.3765\n",
      "Saving model: output/ASVspoof-2019_small-eval-1_2025-04-01T12-13-55.954611.libjob\n"
     ]
    }
   ],
   "source": [
    "trainingProc = BasicModelTrainingProcessor(job, model_cnn_definition.ModelCnnDefinition)\n",
    "model, X_train, X_test, y_train, y_test = trainingProc.process(X, y_encoded, 1)"
   ]
  },
  {
   "cell_type": "markdown",
   "metadata": {},
   "source": [
    "### Test Model"
   ]
  },
  {
   "cell_type": "code",
   "execution_count": 8,
   "metadata": {},
   "outputs": [
    {
     "name": "stdout",
     "output_type": "stream",
     "text": [
      "\u001b[1m1/1\u001b[0m \u001b[32m━━━━━━━━━━━━━━━━━━━━\u001b[0m\u001b[37m\u001b[0m \u001b[1m0s\u001b[0m 62ms/step\n",
      "y_pred: [[1.0000000e+00 3.1971816e-15]]\n",
      "y_pred_work: [0]\n",
      "true_labels: [[1. 0.]\n",
      " [0. 1.]\n",
      " [1. 0.]\n",
      " [0. 1.]]\n",
      "  Batches: 1 - Files: 1 - Score: 0.0 - Elements: 1\n"
     ]
    }
   ],
   "source": [
    "evaluationProc = BasicModelEvaluationProcessor(job, model)\n",
    "evaluationProc.process(y_encoded, X_test, y_test)\n"
   ]
  },
  {
   "cell_type": "code",
   "execution_count": 9,
   "metadata": {},
   "outputs": [
    {
     "name": "stdout",
     "output_type": "stream",
     "text": [
      "\n",
      "\n"
     ]
    }
   ],
   "source": [
    "print(\"\\n\")\n",
    "report = evaluationProc.reportSnapshot(trainingProc)\n",
    "evaluationProc.writeReportToFile(job.persistedModelResults, report)"
   ]
  }
 ],
 "metadata": {
  "kernelspec": {
   "display_name": "audio-deepfake-detection",
   "language": "python",
   "name": "python3"
  },
  "language_info": {
   "codemirror_mode": {
    "name": "ipython",
    "version": 3
   },
   "file_extension": ".py",
   "mimetype": "text/x-python",
   "name": "python",
   "nbconvert_exporter": "python",
   "pygments_lexer": "ipython3",
   "version": "3.12.3"
  }
 },
 "nbformat": 4,
 "nbformat_minor": 2
}
