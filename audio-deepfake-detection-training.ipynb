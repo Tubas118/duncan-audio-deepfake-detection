{
 "cells": [
  {
   "cell_type": "code",
   "execution_count": 1,
   "metadata": {},
   "outputs": [],
   "source": [
    "from config.configuration import RunDetails\n",
    "\n",
    "# runDetail = RunDetails('config.yml', 'ASVspoof-2019_training')\n",
    "# runDetail = RunDetails('config-mfcc.yml', 'ASVspoof-2019_training_mfcc')\n",
    "# runDetail = RunDetails('config.yml', 'ASVspoof-2019_small-eval-1')\n",
    "runDetail = RunDetails('config.yml', 'Compare-Sksmta-training')\n",
    "\n",
    "notebookName = 'audio-deepfake-detection-training'"
   ]
  },
  {
   "cell_type": "code",
   "execution_count": 2,
   "metadata": {},
   "outputs": [],
   "source": [
    "configFilename = runDetail.configFilename\n",
    "runJobId = runDetail.jobId"
   ]
  },
  {
   "cell_type": "code",
   "execution_count": null,
   "metadata": {},
   "outputs": [],
   "source": [
    "import json\n",
    "\n",
    "import config.configuration as configuration\n",
    "import model_definitions.model_cnn_definition as model_cnn_definition\n",
    "from notebook_utils import notebookToPython\n",
    "from preprocessors.abstract_preprocessor import AbstractPreprocessor\n",
    "from preprocessors.preprocessor_factory import PreprocessorFactory\n",
    "from processors.basic_model_training_processor import BasicModelTrainingProcessor\n",
    "from processors.basic_model_evaluation_processor import BasicModelEvaluationProcessor"
   ]
  },
  {
   "cell_type": "code",
   "execution_count": null,
   "metadata": {},
   "outputs": [
    {
     "name": "stdout",
     "output_type": "stream",
     "text": [
      "Write python file\n",
      "Generating new model name: output/Compare-Sksmta-training_2025-04-06T21-07-25.252600.libjob\n",
      "Assigned model name: output/Compare-Sksmta-training_2025-04-06T21-07-25.252600.libjob\n"
     ]
    }
   ],
   "source": [
    "config = configuration.ConfigLoader(configFilename)\n",
    "\n",
    "notebookToPython(notebookName)\n",
    "job = config.getJobConfig(runJobId)\n",
    "\n",
    "prettyJson = json.dumps(job.__dict__, indent=4)\n",
    "print(f\"job: {prettyJson}\")\n",
    "\n",
    "if (job.newModelGenerated == False):\n",
    "    raise ValueError(\"This notebook is meant for training. Select a job without a value for 'persisted-model' set.\")"
   ]
  },
  {
   "cell_type": "code",
   "execution_count": 5,
   "metadata": {},
   "outputs": [
    {
     "name": "stdout",
     "output_type": "stream",
     "text": [
      "MelSpectrogramPreprocessor\n"
     ]
    }
   ],
   "source": [
    "preproc_factory = PreprocessorFactory()\n",
    "preprocessor: AbstractPreprocessor = preproc_factory.newPreprocessor(job.preprocessor)\n"
   ]
  },
  {
   "cell_type": "code",
   "execution_count": 6,
   "metadata": {},
   "outputs": [
    {
     "name": "stdout",
     "output_type": "stream",
     "text": [
      "Loading C:/Users/tubas/workspace/Deepfake/data/ASVspoof-2019/LA/ASVspoof2019_LA_cm_protocols/ASVspoof2019.LA.cm.eval-small.trl.txt...\n",
      "fullDataPath: C:/Users/tubas/workspace/Deepfake/data/ASVspoof-2019/LA/ASVspoof2019_LA_eval_small/flac\n",
      "Loading audio files: 1\n",
      "Loading audio files: 2\n",
      "Loading audio files: 3\n",
      "Loading audio files: 4\n",
      "Number of audio files loaded: 4\n"
     ]
    }
   ],
   "source": [
    "X, y_encoded, true_labels = preprocessor.extract_features_jobSource(job, job.dataPathSuffix)"
   ]
  },
  {
   "cell_type": "code",
   "execution_count": 7,
   "metadata": {},
   "outputs": [
    {
     "name": "stdout",
     "output_type": "stream",
     "text": [
      "useTrainingSplitRandomState: -1\n",
      "IMPORTANT: Splitting using the same method as in \"Sksmta\" base code\n",
      "Training using 3 files.\n",
      "    def buildModel(self) -> Model:\n",
      "        print(f\"__job__: {self.__job__}\")\n",
      "        input_shape = (self.__job__.numMels, self.width, self.channels)\n",
      "        model_input = Input(shape = input_shape)\n",
      "        job = self.__job__\n",
      "\n",
      "        # Derived from:\n",
      "        # Anagha, R., Arya, A., Narayan, V. H., Abhishek, S., & Anjali, T. (2023).\n",
      "        #   Audio Deepfake Detection Using Deep Learning.\n",
      "        #   2023 12th International Conference on System Modeling & Advancement in Research Trends (SMART), System Modeling & Advancement in Research Trends (SMART), 2023 12th International Conference On, 176–181.\n",
      "        #   https://doi.org/10.1109/SMART59791.2023.10428163\n",
      "        x = Conv2D(filters=32, kernel_size=job.kernelSize, activation='relu')(model_input)\n",
      "        x = MaxPooling2D(pool_size=job.poolSize)(x)\n",
      "        x = Conv2D(filters=64, kernel_size=job.kernelSize, activation='relu')(x)\n",
      "        x = MaxPooling2D(pool_size=job.poolSize)(x)\n",
      "        x = Flatten()(x)\n",
      "        x = Dense(units=128, activation='relu')(x)\n",
      "        x = Dropout(0.5)(x)\n",
      "\n",
      "        model_output = Dense(self.__job__.numClasses, activation='softmax')(x)\n",
      "\n",
      "        return Model(inputs=model_input, outputs=model_output)\n",
      "\n",
      "Model definition:\n",
      "None\n",
      "__job__: <config.configuration.Job object at 0x0000027C44393830>\n",
      "Training the Model...\n",
      "Epoch 1/10\n",
      "\u001b[1m1/1\u001b[0m \u001b[32m━━━━━━━━━━━━━━━━━━━━\u001b[0m\u001b[37m\u001b[0m \u001b[1m2s\u001b[0m 2s/step - accuracy: 1.0000 - loss: 0.1620 - val_accuracy: 1.0000 - val_loss: 0.0000e+00\n",
      "Epoch 2/10\n",
      "\u001b[1m1/1\u001b[0m \u001b[32m━━━━━━━━━━━━━━━━━━━━\u001b[0m\u001b[37m\u001b[0m \u001b[1m0s\u001b[0m 151ms/step - accuracy: 0.0000e+00 - loss: 134.7603 - val_accuracy: 1.0000 - val_loss: 0.0000e+00\n",
      "Epoch 3/10\n",
      "\u001b[1m1/1\u001b[0m \u001b[32m━━━━━━━━━━━━━━━━━━━━\u001b[0m\u001b[37m\u001b[0m \u001b[1m0s\u001b[0m 150ms/step - accuracy: 0.3333 - loss: 154.8836 - val_accuracy: 1.0000 - val_loss: 0.0000e+00\n",
      "Epoch 4/10\n",
      "\u001b[1m1/1\u001b[0m \u001b[32m━━━━━━━━━━━━━━━━━━━━\u001b[0m\u001b[37m\u001b[0m \u001b[1m0s\u001b[0m 159ms/step - accuracy: 0.3333 - loss: 63.3342 - val_accuracy: 0.0000e+00 - val_loss: 118.3879\n",
      "Epoch 5/10\n",
      "\u001b[1m1/1\u001b[0m \u001b[32m━━━━━━━━━━━━━━━━━━━━\u001b[0m\u001b[37m\u001b[0m \u001b[1m0s\u001b[0m 185ms/step - accuracy: 0.3333 - loss: 169.5773 - val_accuracy: 0.0000e+00 - val_loss: 201.1604\n",
      "Epoch 6/10\n",
      "\u001b[1m1/1\u001b[0m \u001b[32m━━━━━━━━━━━━━━━━━━━━\u001b[0m\u001b[37m\u001b[0m \u001b[1m0s\u001b[0m 170ms/step - accuracy: 0.6667 - loss: 18.3372 - val_accuracy: 0.0000e+00 - val_loss: 201.7645\n",
      "Epoch 7/10\n",
      "\u001b[1m1/1\u001b[0m \u001b[32m━━━━━━━━━━━━━━━━━━━━\u001b[0m\u001b[37m\u001b[0m \u001b[1m0s\u001b[0m 148ms/step - accuracy: 0.6667 - loss: 110.6506 - val_accuracy: 0.0000e+00 - val_loss: 141.0835\n",
      "Epoch 8/10\n",
      "\u001b[1m1/1\u001b[0m \u001b[32m━━━━━━━━━━━━━━━━━━━━\u001b[0m\u001b[37m\u001b[0m \u001b[1m0s\u001b[0m 151ms/step - accuracy: 0.6667 - loss: 129.5618 - val_accuracy: 0.0000e+00 - val_loss: 71.4522\n",
      "Epoch 9/10\n",
      "\u001b[1m1/1\u001b[0m \u001b[32m━━━━━━━━━━━━━━━━━━━━\u001b[0m\u001b[37m\u001b[0m \u001b[1m0s\u001b[0m 157ms/step - accuracy: 0.6667 - loss: 34.5369 - val_accuracy: 0.0000e+00 - val_loss: 48.9332\n",
      "Epoch 10/10\n",
      "\u001b[1m1/1\u001b[0m \u001b[32m━━━━━━━━━━━━━━━━━━━━\u001b[0m\u001b[37m\u001b[0m \u001b[1m0s\u001b[0m 201ms/step - accuracy: 1.0000 - loss: 0.0000e+00 - val_accuracy: 0.0000e+00 - val_loss: 33.1893\n",
      "Saving model: output/Compare-Sksmta-training_2025-04-06T21-07-25.252600.libjob\n"
     ]
    }
   ],
   "source": [
    "trainingProc = BasicModelTrainingProcessor(job, model_cnn_definition.ModelCnnDefinition)\n",
    "model, X_train, X_test, y_train, y_test = trainingProc.process(X, y_encoded, 1)"
   ]
  },
  {
   "cell_type": "markdown",
   "metadata": {},
   "source": [
    "### Test Model"
   ]
  },
  {
   "cell_type": "code",
   "execution_count": 8,
   "metadata": {},
   "outputs": [
    {
     "name": "stdout",
     "output_type": "stream",
     "text": [
      "\u001b[1m1/1\u001b[0m \u001b[32m━━━━━━━━━━━━━━━━━━━━\u001b[0m\u001b[37m\u001b[0m \u001b[1m0s\u001b[0m 116ms/step\n",
      "  Batches: 1 - Files: 1 - Score: 0.0 - Elements: 1\n"
     ]
    }
   ],
   "source": [
    "from processors.model_evaluation_result import ModelEvaluationResult\n",
    "\n",
    "\n",
    "evaluationProc = BasicModelEvaluationProcessor(job, model)\n",
    "results: ModelEvaluationResult = evaluationProc.process(X_test, y_test, true_labels)\n"
   ]
  },
  {
   "cell_type": "code",
   "execution_count": 9,
   "metadata": {},
   "outputs": [
    {
     "name": "stdout",
     "output_type": "stream",
     "text": [
      "results.test: [[0. 1.]]\n",
      "results.pred: [0]\n",
      "classes: ['spoof', 'bonafide']\n",
      "y_encoded: [[1. 0.]\n",
      " [0. 1.]\n",
      " [1. 0.]\n",
      " [0. 1.]]\n"
     ]
    }
   ],
   "source": [
    "from postprocessors.confusion_matrix_plot import ConfusionMatrixDetails, ConfusionMatrixPlot\n",
    "import json\n",
    "\n",
    "print(f'results.test: {results.test}')\n",
    "print(f'results.pred: {results.pred}')\n",
    "print(f'classes: {job.classes}')\n",
    "print(f'y_encoded: {y_encoded}')\n",
    "# confusionMatrixPlot = ConfusionMatrixPlot()\n",
    "# cmDetails: ConfusionMatrixDetails = confusionMatrixPlot.plot(job.classes, results.test, results.pred)\n"
   ]
  },
  {
   "cell_type": "code",
   "execution_count": 10,
   "metadata": {},
   "outputs": [
    {
     "name": "stdout",
     "output_type": "stream",
     "text": [
      "\n",
      "\n",
      "Results:\n",
      "---- Training (start) ----\n",
      "start time: 2025-04-07T02:07:29.427804+00:00\n",
      "end time: 2025-04-07T02:07:33.920937+00:00\n",
      "elapsed: 0:00:04.493133\n",
      "\n",
      "model file: output/Compare-Sksmta-training_2025-04-06T21-07-25.252600.libjob\n",
      "batch count: 0\n",
      "file count: 0\n",
      "job: {\n",
      "    \"jobId\": \"Compare-Sksmta-training\",\n",
      "    \"inputFileBatchSize\": 1000,\n",
      "    \"outputFolder\": \"output\",\n",
      "    \"dataPathRootRaw\": \"$HOMEDRIVE$HOMEPATH/workspace/Deepfake/data/ASVspoof-2019\",\n",
      "    \"dataPathRoot\": \"C:/Users/tubas/workspace/Deepfake/data/ASVspoof-2019\",\n",
      "    \"dataPathSuffix\": \"LA/ASVspoof2019_LA_eval_small/flac\",\n",
      "    \"dataExtension\": \".flac\",\n",
      "    \"trainingSplitRandomState\": -1,\n",
      "    \"labelFilename\": \"LA/ASVspoof2019_LA_cm_protocols/ASVspoof2019.LA.cm.eval-small.trl.txt\",\n",
      "    \"executeToCategoricalForLabels\": true,\n",
      "    \"classes\": [\n",
      "        \"spoof\",\n",
      "        \"bonafide\"\n",
      "    ],\n",
      "    \"numClasses\": 2,\n",
      "    \"sampleRate\": 16000,\n",
      "    \"duration\": 5,\n",
      "    \"numMels\": 128,\n",
      "    \"maxTimeSteps\": 109,\n",
      "    \"kernelSize\": [\n",
      "        2,\n",
      "        2\n",
      "    ],\n",
      "    \"poolSize\": [\n",
      "        2,\n",
      "        2\n",
      "    ],\n",
      "    \"optimizer\": \"adam\",\n",
      "    \"loss\": \"categorical_crossentropy\",\n",
      "    \"metrics\": [\n",
      "        \"accuracy\"\n",
      "    ],\n",
      "    \"preprocessor\": \"mel_spectrogram\",\n",
      "    \"batchSize\": 32,\n",
      "    \"numEpochs\": 10,\n",
      "    \"newModelGenerated\": true,\n",
      "    \"persistedModel\": \"output/Compare-Sksmta-training_2025-04-06T21-07-25.252600.libjob\",\n",
      "    \"persistedModelResults\": \"output/Compare-Sksmta-training_2025-04-06T21-07-25.252600.txt\"\n",
      "}\n",
      "\n",
      "---- Training (end) ----\n",
      "\n",
      "---- Testing (start) ----\n",
      "start time: 2025-04-07T02:07:33.702611+00:00\n",
      "end time: 2025-04-07T02:07:33.920937+00:00\n",
      "elapsed: 0:00:00.218326\n",
      "\n",
      "model file: output/Compare-Sksmta-training_2025-04-06T21-07-25.252600.libjob\n",
      "batch count: 1\n",
      "file count: 1\n",
      "accuracy_score: 0.0\n",
      "\n",
      "job: {\n",
      "    \"jobId\": \"Compare-Sksmta-training\",\n",
      "    \"inputFileBatchSize\": 1000,\n",
      "    \"outputFolder\": \"output\",\n",
      "    \"dataPathRootRaw\": \"$HOMEDRIVE$HOMEPATH/workspace/Deepfake/data/ASVspoof-2019\",\n",
      "    \"dataPathRoot\": \"C:/Users/tubas/workspace/Deepfake/data/ASVspoof-2019\",\n",
      "    \"dataPathSuffix\": \"LA/ASVspoof2019_LA_eval_small/flac\",\n",
      "    \"dataExtension\": \".flac\",\n",
      "    \"trainingSplitRandomState\": -1,\n",
      "    \"labelFilename\": \"LA/ASVspoof2019_LA_cm_protocols/ASVspoof2019.LA.cm.eval-small.trl.txt\",\n",
      "    \"executeToCategoricalForLabels\": true,\n",
      "    \"classes\": [\n",
      "        \"spoof\",\n",
      "        \"bonafide\"\n",
      "    ],\n",
      "    \"numClasses\": 2,\n",
      "    \"sampleRate\": 16000,\n",
      "    \"duration\": 5,\n",
      "    \"numMels\": 128,\n",
      "    \"maxTimeSteps\": 109,\n",
      "    \"kernelSize\": [\n",
      "        2,\n",
      "        2\n",
      "    ],\n",
      "    \"poolSize\": [\n",
      "        2,\n",
      "        2\n",
      "    ],\n",
      "    \"optimizer\": \"adam\",\n",
      "    \"loss\": \"categorical_crossentropy\",\n",
      "    \"metrics\": [\n",
      "        \"accuracy\"\n",
      "    ],\n",
      "    \"preprocessor\": \"mel_spectrogram\",\n",
      "    \"batchSize\": 32,\n",
      "    \"numEpochs\": 10,\n",
      "    \"newModelGenerated\": true,\n",
      "    \"persistedModel\": \"output/Compare-Sksmta-training_2025-04-06T21-07-25.252600.libjob\",\n",
      "    \"persistedModelResults\": \"output/Compare-Sksmta-training_2025-04-06T21-07-25.252600.txt\"\n",
      "}\n",
      "\n",
      "---- Testing (end) ----\n",
      "\n"
     ]
    }
   ],
   "source": [
    "print(\"\\n\")\n",
    "report = evaluationProc.reportSnapshot(trainingProc)\n",
    "evaluationProc.writeReportToFile(job.persistedModelResults, report)\n",
    "print(f'Results:\\n{report}')"
   ]
  }
 ],
 "metadata": {
  "kernelspec": {
   "display_name": "audio-deepfake-detection",
   "language": "python",
   "name": "python3"
  },
  "language_info": {
   "codemirror_mode": {
    "name": "ipython",
    "version": 3
   },
   "file_extension": ".py",
   "mimetype": "text/x-python",
   "name": "python",
   "nbconvert_exporter": "python",
   "pygments_lexer": "ipython3",
   "version": "3.12.3"
  }
 },
 "nbformat": 4,
 "nbformat_minor": 2
}
