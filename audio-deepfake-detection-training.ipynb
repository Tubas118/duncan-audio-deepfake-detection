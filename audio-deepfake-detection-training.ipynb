{
 "cells": [
  {
   "cell_type": "code",
   "execution_count": 1,
   "metadata": {},
   "outputs": [],
   "source": [
    "notebookName = 'audio-deepfake-detection-training'\n",
    "runJobId = 'ASVspoof-2019_training'\n",
    "# runJobId = 'ASVspoof-2019_small-eval-1'     # This should fail\n",
    "\n",
    "import configuration.configuration as configuration\n",
    "import model_definitions.model_cnn_definition as model_cnn_definition\n",
    "from mel_spectrogram.mel_spectrogram import MelSpectrogramGenerator\n",
    "from notebook_utils import notebookToPython\n",
    "from processors.basic_model_training_processor import BasicModelTrainingProcessor\n",
    "from processors.basic_model_evaluation_processor import BasicModelEvaluationProcessor\n"
   ]
  },
  {
   "cell_type": "code",
   "execution_count": 2,
   "metadata": {},
   "outputs": [
    {
     "name": "stdout",
     "output_type": "stream",
     "text": [
      "Write python file\n",
      "Generating new model name: output/ASVspoof-2019_training_2025-03-22T12-19-50.794437.libjob\n",
      "Assigned model name: output/ASVspoof-2019_training_2025-03-22T12-19-50.794437.libjob\n"
     ]
    }
   ],
   "source": [
    "config = configuration.ConfigLoader('config.yml')\n",
    "\n",
    "notebookToPython(notebookName)\n",
    "job = config.getJobConfig(runJobId)\n",
    "\n",
    "if (job.newModelGenerated == False):\n",
    "    raise ValueError(\"This notebook is meant for training. Select a job without a value for 'persisted-model' set.\")"
   ]
  },
  {
   "cell_type": "code",
   "execution_count": 3,
   "metadata": {},
   "outputs": [
    {
     "name": "stdout",
     "output_type": "stream",
     "text": [
      "Loading C:/Users/tubas/workspace/Deepfake/data/ASVspoof-2019/LA/ASVspoof2019_LA_cm_protocols/ASVspoof2019.LA.cm.train.trn.txt...\n",
      "fullDataPath: C:/Users/tubas/workspace/Deepfake/data/ASVspoof-2019/LA/ASVspoof2019_LA_train/flac\n",
      "Loading audio files: 1269\n",
      "Loading audio files: 2538\n",
      "Loading audio files: 3807\n",
      "Loading audio files: 5076\n",
      "Loading audio files: 6345\n",
      "Loading audio files: 7614\n",
      "Loading audio files: 8883\n",
      "Loading audio files: 10152\n",
      "Loading audio files: 11421\n",
      "Loading audio files: 12690\n",
      "Loading audio files: 13959\n",
      "Loading audio files: 15228\n",
      "Loading audio files: 16497\n",
      "Loading audio files: 17766\n",
      "Loading audio files: 19035\n",
      "Loading audio files: 20304\n",
      "Loading audio files: 21573\n",
      "Loading audio files: 22842\n",
      "Loading audio files: 24111\n",
      "Loading audio files: 25380\n",
      "Number of audio files load: 25380\n"
     ]
    }
   ],
   "source": [
    "generator = MelSpectrogramGenerator()\n",
    "X, y_encoded = generator.generateMelSpectrograms(job, job.dataPathSuffix)"
   ]
  },
  {
   "cell_type": "code",
   "execution_count": 4,
   "metadata": {},
   "outputs": [
    {
     "name": "stdout",
     "output_type": "stream",
     "text": [
      "Selecting training and test data\n",
      "Training using 20304 files.\n",
      "    def buildModel(self) -> Model:\n",
      "        print(f\"__job__: {self.__job__}\")\n",
      "        input_shape = (self.__job__.numMels, self.width, self.channels)\n",
      "        model_input = Input(shape = input_shape)\n",
      "\n",
      "        # TODO - why were these parameters selected? What purpose do they serve? Should they be configurable?\n",
      "        x = Conv2D(filters=32, kernel_size=(3, 3), activation='relu')(model_input)\n",
      "        x = MaxPooling2D(pool_size=(2, 2))(x)\n",
      "        x = Conv2D(filters=64, kernel_size=(3, 3), activation='relu')(x)\n",
      "        x = MaxPooling2D(pool_size=(2, 2))(x)\n",
      "        x = Flatten()(x)\n",
      "        x = Dense(units=128, activation='relu')(x)\n",
      "        x = Dropout(0.5)(x)\n",
      "\n",
      "        model_output = Dense(self.__job__.numClasses, activation='softmax')(x)\n",
      "\n",
      "        return Model(inputs=model_input, outputs=model_output)\n",
      "\n",
      "Model definition:\n",
      "None\n",
      "__job__: <configuration.configuration.Job object at 0x00000192D694D610>\n",
      "Training the Model...\n",
      "Epoch 1/10\n",
      "\u001b[1m635/635\u001b[0m \u001b[32m━━━━━━━━━━━━━━━━━━━━\u001b[0m\u001b[37m\u001b[0m \u001b[1m40s\u001b[0m 61ms/step - accuracy: 0.8862 - loss: 3.3765 - val_accuracy: 0.9147 - val_loss: 0.2239\n",
      "Epoch 2/10\n",
      "\u001b[1m635/635\u001b[0m \u001b[32m━━━━━━━━━━━━━━━━━━━━\u001b[0m\u001b[37m\u001b[0m \u001b[1m40s\u001b[0m 63ms/step - accuracy: 0.9081 - loss: 0.2197 - val_accuracy: 0.9177 - val_loss: 0.1998\n",
      "Epoch 3/10\n",
      "\u001b[1m635/635\u001b[0m \u001b[32m━━━━━━━━━━━━━━━━━━━━\u001b[0m\u001b[37m\u001b[0m \u001b[1m39s\u001b[0m 62ms/step - accuracy: 0.9167 - loss: 0.2010 - val_accuracy: 0.9448 - val_loss: 0.1378\n",
      "Epoch 4/10\n",
      "\u001b[1m635/635\u001b[0m \u001b[32m━━━━━━━━━━━━━━━━━━━━\u001b[0m\u001b[37m\u001b[0m \u001b[1m40s\u001b[0m 63ms/step - accuracy: 0.9202 - loss: 0.2287 - val_accuracy: 0.8958 - val_loss: 0.3092\n",
      "Epoch 5/10\n",
      "\u001b[1m635/635\u001b[0m \u001b[32m━━━━━━━━━━━━━━━━━━━━\u001b[0m\u001b[37m\u001b[0m \u001b[1m41s\u001b[0m 64ms/step - accuracy: 0.9053 - loss: 0.2439 - val_accuracy: 0.9137 - val_loss: 0.2230\n",
      "Epoch 6/10\n",
      "\u001b[1m635/635\u001b[0m \u001b[32m━━━━━━━━━━━━━━━━━━━━\u001b[0m\u001b[37m\u001b[0m \u001b[1m41s\u001b[0m 64ms/step - accuracy: 0.9120 - loss: 0.2240 - val_accuracy: 0.9456 - val_loss: 0.1382\n",
      "Epoch 7/10\n",
      "\u001b[1m635/635\u001b[0m \u001b[32m━━━━━━━━━━━━━━━━━━━━\u001b[0m\u001b[37m\u001b[0m \u001b[1m43s\u001b[0m 68ms/step - accuracy: 0.9488 - loss: 0.1392 - val_accuracy: 0.9519 - val_loss: 0.1277\n",
      "Epoch 8/10\n",
      "\u001b[1m635/635\u001b[0m \u001b[32m━━━━━━━━━━━━━━━━━━━━\u001b[0m\u001b[37m\u001b[0m \u001b[1m43s\u001b[0m 68ms/step - accuracy: 0.9610 - loss: 0.1048 - val_accuracy: 0.9551 - val_loss: 0.1101\n",
      "Epoch 9/10\n",
      "\u001b[1m635/635\u001b[0m \u001b[32m━━━━━━━━━━━━━━━━━━━━\u001b[0m\u001b[37m\u001b[0m \u001b[1m43s\u001b[0m 68ms/step - accuracy: 0.9677 - loss: 0.0888 - val_accuracy: 0.9638 - val_loss: 0.0841\n",
      "Epoch 10/10\n",
      "\u001b[1m635/635\u001b[0m \u001b[32m━━━━━━━━━━━━━━━━━━━━\u001b[0m\u001b[37m\u001b[0m \u001b[1m44s\u001b[0m 70ms/step - accuracy: 0.9767 - loss: 0.0632 - val_accuracy: 0.9754 - val_loss: 0.0658\n",
      "Saving model: output/ASVspoof-2019_training_2025-03-22T12-19-50.794437.libjob\n"
     ]
    }
   ],
   "source": [
    "trainingProc = BasicModelTrainingProcessor(job, model_cnn_definition.ModelCnnDefinition)\n",
    "model, X_train, X_test, y_train, y_test = trainingProc.process(X, y_encoded, 1)"
   ]
  },
  {
   "cell_type": "markdown",
   "metadata": {},
   "source": [
    "### Test Model"
   ]
  },
  {
   "cell_type": "code",
   "execution_count": 5,
   "metadata": {},
   "outputs": [
    {
     "name": "stdout",
     "output_type": "stream",
     "text": [
      "\u001b[1m159/159\u001b[0m \u001b[32m━━━━━━━━━━━━━━━━━━━━\u001b[0m\u001b[37m\u001b[0m \u001b[1m3s\u001b[0m 16ms/step\n",
      "  Batches: 1 - Files: 5076 - Score: 0.9753743104806935 - Elements: 5076\n",
      "\n",
      "\n",
      "start time: 2025-03-22T17:31:18.745079+00:00\n",
      "end time: 2025-03-22T17:31:21.602095+00:00\n",
      "elapsed: 0:00:02.857016\n",
      "\n",
      "model file: output/ASVspoof-2019_training_2025-03-22T12-19-50.794437.libjob\n",
      "batch count: 1\n",
      "file count: 5076\n",
      "accuracy_score: 0.9753743104806935\n",
      "\n",
      "job: {\n",
      "    \"jobId\": \"ASVspoof-2019_training\",\n",
      "    \"inputFileBatchSize\": 1000,\n",
      "    \"outputFolder\": \"output\",\n",
      "    \"dataPathRootRaw\": \"$HOMEDRIVE$HOMEPATH/workspace/Deepfake/data/ASVspoof-2019\",\n",
      "    \"dataPathRoot\": \"C:/Users/tubas/workspace/Deepfake/data/ASVspoof-2019\",\n",
      "    \"dataPathSuffix\": \"LA/ASVspoof2019_LA_train/flac\",\n",
      "    \"dataExtension\": \".flac\",\n",
      "    \"labelFilename\": \"LA/ASVspoof2019_LA_cm_protocols/ASVspoof2019.LA.cm.train.trn.txt\",\n",
      "    \"executeToCategoricalForLabels\": true,\n",
      "    \"numClasses\": 2,\n",
      "    \"sampleRate\": 16000,\n",
      "    \"duration\": 5,\n",
      "    \"numMels\": 128,\n",
      "    \"maxTimeSteps\": 109,\n",
      "    \"optimizer\": \"adam\",\n",
      "    \"loss\": \"categorical_crossentropy\",\n",
      "    \"metrics\": [\n",
      "        \"accuracy\"\n",
      "    ],\n",
      "    \"batchSize\": 32,\n",
      "    \"numEpochs\": 10,\n",
      "    \"newModelGenerated\": true,\n",
      "    \"persistedModel\": \"output/ASVspoof-2019_training_2025-03-22T12-19-50.794437.libjob\",\n",
      "    \"persistedModelResults\": \"output/ASVspoof-2019_training_2025-03-22T12-19-50.794437.txt\"\n",
      "}\n",
      "\n"
     ]
    }
   ],
   "source": [
    "evaluationProc = BasicModelEvaluationProcessor(job, model)\n",
    "evaluationProc.process(X_test, y_test)\n",
    "\n",
    "print(\"\\n\")\n",
    "evaluationProc.reportSnapshot()"
   ]
  }
 ],
 "metadata": {
  "kernelspec": {
   "display_name": "audio-deepfake-detection",
   "language": "python",
   "name": "python3"
  },
  "language_info": {
   "codemirror_mode": {
    "name": "ipython",
    "version": 3
   },
   "file_extension": ".py",
   "mimetype": "text/x-python",
   "name": "python",
   "nbconvert_exporter": "python",
   "pygments_lexer": "ipython3",
   "version": "3.12.3"
  }
 },
 "nbformat": 4,
 "nbformat_minor": 2
}
