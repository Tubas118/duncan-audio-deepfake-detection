{
 "cells": [
  {
   "cell_type": "markdown",
   "id": "4d094d1a",
   "metadata": {},
   "source": [
    "### Setup - Preprocess"
   ]
  },
  {
   "cell_type": "code",
   "execution_count": null,
   "id": "c89077ea",
   "metadata": {},
   "outputs": [],
   "source": [
    "from config.configuration import RunDetails\n",
    "\n",
    "# runDetail = RunDetails('config.yml', 'Compare-Sksmta-eval')\n",
    "runDetail = RunDetails('config.yml', 'ASVspoof-2019_2025-03-24-1_large-batch')\n",
    "\n",
    "notebookName = 'audio-deepfake-detection-preprocessing'"
   ]
  },
  {
   "cell_type": "code",
   "execution_count": null,
   "id": "93d29082",
   "metadata": {},
   "outputs": [],
   "source": [
    "configFilename = runDetail.configFilename\n",
    "runJobId = runDetail.jobId"
   ]
  },
  {
   "cell_type": "code",
   "execution_count": null,
   "id": "692a6d5d",
   "metadata": {},
   "outputs": [],
   "source": [
    "import json\n",
    "\n",
    "import config.configuration as configuration\n",
    "from notebook_utils import notebookToPython\n",
    "from preprocessors.abstract_preprocessor import AbstractPreprocessor\n",
    "from preprocessors.preprocess_persistance import PreprocessPersistance\n",
    "from preprocessors.preprocessor_factory import PreprocessorFactory\n",
    "from readers.label_reader import readLabelsWithJob"
   ]
  },
  {
   "cell_type": "code",
   "execution_count": null,
   "id": "ec939057",
   "metadata": {},
   "outputs": [],
   "source": [
    "config = configuration.ConfigLoader(configFilename)\n",
    "\n",
    "notebookToPython(notebookName)\n",
    "job = config.getJobConfig(runJobId)\n",
    "\n",
    "prettyJson = json.dumps(job.__dict__, indent=4)\n",
    "print(f\"job: {prettyJson}\")\n",
    "\n",
    "if (job.newPreprocessData == False):\n",
    "    raise ValueError(\"This notebook is meant for persisting preprocessed data. Select a job without a value for 'preprocessed-data' set.\")"
   ]
  },
  {
   "cell_type": "markdown",
   "id": "c132ff72",
   "metadata": {},
   "source": [
    "### Preprocess"
   ]
  },
  {
   "cell_type": "code",
   "execution_count": null,
   "id": "fd376999",
   "metadata": {},
   "outputs": [],
   "source": [
    "preproc_factory = PreprocessorFactory()\n",
    "preprocessor: AbstractPreprocessor = preproc_factory.newPreprocessor(job.preprocessor)"
   ]
  },
  {
   "cell_type": "code",
   "execution_count": null,
   "id": "4f111eab",
   "metadata": {},
   "outputs": [],
   "source": [
    "X_test, y_test, true_labels, source_filenames = preprocessor.extract_features_jobSource(job, job.dataPathSuffix)"
   ]
  },
  {
   "cell_type": "markdown",
   "id": "c778961a",
   "metadata": {},
   "source": [
    "### Save and validate"
   ]
  },
  {
   "cell_type": "code",
   "execution_count": null,
   "id": "7b3c58e6",
   "metadata": {},
   "outputs": [],
   "source": [
    "persist = PreprocessPersistance(X_test, y_test, true_labels, source_filenames)\n",
    "persist.save(job.preprocessDataFilename)"
   ]
  },
  {
   "cell_type": "code",
   "execution_count": null,
   "id": "2dc7e95b",
   "metadata": {},
   "outputs": [],
   "source": [
    "reloaded = persist.load(job.preprocessDataFilename)\n",
    "if (persist.compare(reloaded)):\n",
    "    print(f\"Successfully saved preprocessed data: {job.preprocessDataFilename}\")\n",
    "else:\n",
    "    print(f\"An problem occurred while attempting to save preprocessed data: {job.preprocessDataFilename}\")\n"
   ]
  }
 ],
 "metadata": {
  "kernelspec": {
   "display_name": "audio-deepfake-detection",
   "language": "python",
   "name": "python3"
  },
  "language_info": {
   "codemirror_mode": {
    "name": "ipython",
    "version": 3
   },
   "file_extension": ".py",
   "mimetype": "text/x-python",
   "name": "python",
   "nbconvert_exporter": "python",
   "pygments_lexer": "ipython3",
   "version": "3.12.3"
  }
 },
 "nbformat": 4,
 "nbformat_minor": 5
}
