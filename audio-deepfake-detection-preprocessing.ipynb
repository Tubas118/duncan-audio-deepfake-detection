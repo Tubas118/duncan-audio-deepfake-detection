{
 "cells": [
  {
   "cell_type": "markdown",
   "id": "4d094d1a",
   "metadata": {},
   "source": [
    "### Setup - Preprocess"
   ]
  },
  {
   "cell_type": "code",
   "execution_count": 1,
   "id": "c89077ea",
   "metadata": {},
   "outputs": [],
   "source": [
    "from config.configuration import RunDetails\n",
    "\n",
    "# runDetail = RunDetails('config.yml', 'Compare-Sksmta-eval')\n",
    "runDetail = RunDetails('config.yml', 'ASVspoof-2019_2025-03-24-1_large-batch')\n",
    "\n",
    "notebookName = 'audio-deepfake-detection-preprocessing'"
   ]
  },
  {
   "cell_type": "code",
   "execution_count": 2,
   "id": "93d29082",
   "metadata": {},
   "outputs": [],
   "source": [
    "configFilename = runDetail.configFilename\n",
    "runJobId = runDetail.jobId"
   ]
  },
  {
   "cell_type": "code",
   "execution_count": 3,
   "id": "692a6d5d",
   "metadata": {},
   "outputs": [],
   "source": [
    "import json\n",
    "\n",
    "import config.configuration as configuration\n",
    "from notebook_utils import notebookToPython\n",
    "from preprocessors.abstract_preprocessor import AbstractPreprocessor\n",
    "from preprocessors.preprocess_persistance import PreprocessPersistance\n",
    "from preprocessors.preprocessor_factory import PreprocessorFactory\n",
    "from readers.label_reader import readLabelsWithJob"
   ]
  },
  {
   "cell_type": "code",
   "execution_count": 4,
   "id": "ec939057",
   "metadata": {},
   "outputs": [
    {
     "name": "stdout",
     "output_type": "stream",
     "text": [
      "Write python file\n",
      "Generating new preprocessed binary file: output/ASVspoof-2019_2025-03-24-1_large-batch_2025-04-11T11-31-39.918233.pp-bin\n",
      "job: {\n",
      "    \"jobId\": \"ASVspoof-2019_2025-03-24-1_large-batch\",\n",
      "    \"outputFolder\": \"output\",\n",
      "    \"dataPathRootRaw\": \"$HOMEDRIVE$HOMEPATH/workspace/Deepfake/data/ASVspoof-2019\",\n",
      "    \"dataPathRoot\": \"C:/Users/tubas/workspace/Deepfake/data/ASVspoof-2019\",\n",
      "    \"dataPathSuffix\": \"LA/ASVspoof2019_LA_eval/flac\",\n",
      "    \"dataExtension\": \".flac\",\n",
      "    \"trainingSplitRandomState\": 3,\n",
      "    \"labelFilename\": \"LA/ASVspoof2019_LA_cm_protocols/ASVspoof2019.LA.cm.eval.trl.txt\",\n",
      "    \"executeToCategoricalForLabels\": true,\n",
      "    \"classes\": [\n",
      "        \"spoof\",\n",
      "        \"bonafide\"\n",
      "    ],\n",
      "    \"numClasses\": 2,\n",
      "    \"sampleRate\": 16000,\n",
      "    \"duration\": 5,\n",
      "    \"numMels\": 128,\n",
      "    \"maxTimeSteps\": 109,\n",
      "    \"kernelSize\": [\n",
      "        2,\n",
      "        2\n",
      "    ],\n",
      "    \"poolSize\": [\n",
      "        2,\n",
      "        2\n",
      "    ],\n",
      "    \"optimizer\": \"adam\",\n",
      "    \"loss\": \"categorical_crossentropy\",\n",
      "    \"metrics\": [\n",
      "        \"accuracy\"\n",
      "    ],\n",
      "    \"preprocessor\": \"mel_spectrogram\",\n",
      "    \"batchSize\": 32,\n",
      "    \"numEpochs\": 10,\n",
      "    \"newModelGenerated\": false,\n",
      "    \"persistedModel\": \"results/2025-03-24T22-21-36.689419/01_ASVspoof-2019_training_2025-03-25T07-47-11.409349_random_000186.libjob.libjob\",\n",
      "    \"persistedModelResults\": \"results/2025-03-24T22-21-36.689419/01_ASVspoof-2019_training_2025-03-25T07-47-11.409349_random_000186.libjob.txt\",\n",
      "    \"newPreprocessData\": true,\n",
      "    \"preprocessDataFilename\": \"output/ASVspoof-2019_2025-03-24-1_large-batch_2025-04-11T11-31-39.918233.pp-bin\"\n",
      "}\n"
     ]
    }
   ],
   "source": [
    "config = configuration.ConfigLoader(configFilename)\n",
    "\n",
    "notebookToPython(notebookName)\n",
    "job = config.getJobConfig(runJobId)\n",
    "\n",
    "prettyJson = json.dumps(job.__dict__, indent=4)\n",
    "print(f\"job: {prettyJson}\")\n",
    "\n",
    "if (job.newPreprocessData == False):\n",
    "    raise ValueError(\"This notebook is meant for persisting preprocessed data. Select a job without a value for 'preprocessed-data' set.\")"
   ]
  },
  {
   "cell_type": "markdown",
   "id": "c132ff72",
   "metadata": {},
   "source": [
    "### Preprocess"
   ]
  },
  {
   "cell_type": "code",
   "execution_count": 5,
   "id": "fd376999",
   "metadata": {},
   "outputs": [
    {
     "name": "stdout",
     "output_type": "stream",
     "text": [
      "MelSpectrogramPreprocessor\n"
     ]
    }
   ],
   "source": [
    "preproc_factory = PreprocessorFactory()\n",
    "preprocessor: AbstractPreprocessor = preproc_factory.newPreprocessor(job.preprocessor)"
   ]
  },
  {
   "cell_type": "code",
   "execution_count": 6,
   "id": "4f111eab",
   "metadata": {},
   "outputs": [
    {
     "name": "stdout",
     "output_type": "stream",
     "text": [
      "Loading C:/Users/tubas/workspace/Deepfake/data/ASVspoof-2019/LA/ASVspoof2019_LA_cm_protocols/ASVspoof2019.LA.cm.eval.trl.txt...\n",
      "fullDataPath: C:/Users/tubas/workspace/Deepfake/data/ASVspoof-2019/LA/ASVspoof2019_LA_eval/flac\n",
      "Loading audio files: 7123\n",
      "Loading audio files: 14246\n",
      "Loading audio files: 21369\n",
      "Loading audio files: 28492\n",
      "Loading audio files: 35615\n",
      "Loading audio files: 42738\n",
      "Loading audio files: 49861\n",
      "Loading audio files: 56984\n",
      "Loading audio files: 64107\n",
      "Loading audio files: 71230\n",
      "Number of audio files loaded: 71237\n"
     ]
    }
   ],
   "source": [
    "X_test, y_test, true_labels, source_filenames = preprocessor.extract_features_jobSource(job, job.dataPathSuffix)"
   ]
  },
  {
   "cell_type": "markdown",
   "id": "c778961a",
   "metadata": {},
   "source": [
    "### Save and validate"
   ]
  },
  {
   "cell_type": "code",
   "execution_count": 7,
   "id": "7b3c58e6",
   "metadata": {},
   "outputs": [],
   "source": [
    "persist = PreprocessPersistance(X_test, y_test, true_labels, source_filenames)\n",
    "persist.save(job.preprocessDataFilename)"
   ]
  },
  {
   "cell_type": "code",
   "execution_count": 8,
   "id": "2dc7e95b",
   "metadata": {},
   "outputs": [
    {
     "name": "stdout",
     "output_type": "stream",
     "text": [
      "Successfully saved preprocessed data: output/ASVspoof-2019_2025-03-24-1_large-batch_2025-04-11T11-31-39.918233.pp-bin\n"
     ]
    }
   ],
   "source": [
    "reloaded = persist.load(job.preprocessDataFilename)\n",
    "if (persist.compare(reloaded)):\n",
    "    print(f\"Successfully saved preprocessed data: {job.preprocessDataFilename}\")\n",
    "else:\n",
    "    print(f\"An problem occurred while attempting to save preprocessed data: {job.preprocessDataFilename}\")\n"
   ]
  }
 ],
 "metadata": {
  "kernelspec": {
   "display_name": "audio-deepfake-detection",
   "language": "python",
   "name": "python3"
  },
  "language_info": {
   "codemirror_mode": {
    "name": "ipython",
    "version": 3
   },
   "file_extension": ".py",
   "mimetype": "text/x-python",
   "name": "python",
   "nbconvert_exporter": "python",
   "pygments_lexer": "ipython3",
   "version": "3.12.3"
  }
 },
 "nbformat": 4,
 "nbformat_minor": 5
}
