{
 "cells": [
  {
   "cell_type": "code",
   "execution_count": null,
   "metadata": {},
   "outputs": [],
   "source": [
    "from config.configuration import BulkRunDetails\n",
    "\n",
    "runDetail = BulkRunDetails('config.yml', 'ASVspoof-2019_training')\n",
    "\n",
    "notebookName = 'audio-deepfake-detection-bulk-training'"
   ]
  },
  {
   "cell_type": "code",
   "execution_count": null,
   "metadata": {},
   "outputs": [],
   "source": [
    "# --------------------------------------------------------------\n",
    "large_runDetail = BulkRunDetails.DERIVE_BULK_RUN(runDetail,\n",
    "                                                 'mel_spectrogram',\n",
    "                                                 range(1, 200))\n",
    "\n",
    "mel_spec_runDetail = BulkRunDetails.DERIVE_BULK_RUN(runDetail,\n",
    "                                                    'mel_spectrogram',\n",
    "                                                    [186, 133, 147, 69, 105])\n",
    "\n",
    "mfcc_runDetail = BulkRunDetails.DERIVE_BULK_RUN(runDetail,\n",
    "                                                'mfcc',\n",
    "                                                mel_spec_runDetail.random_state_array)\n",
    "# --------------------------------------------------------------\n",
    "\n",
    "\n",
    "# runDetail = large_runDetail\n",
    "runDetail = mel_spec_runDetail\n",
    "# runDetail = mfcc_runDetail"
   ]
  },
  {
   "cell_type": "code",
   "execution_count": null,
   "metadata": {},
   "outputs": [],
   "source": [
    "configFilename = runDetail.configFilename\n",
    "runJobId = runDetail.jobId"
   ]
  },
  {
   "cell_type": "code",
   "execution_count": null,
   "metadata": {},
   "outputs": [],
   "source": [
    "import config.configuration as configuration\n",
    "import model_definitions.model_cnn_definition as model_cnn_definition\n",
    "from preprocessors.abstract_preprocessor import AbstractPreprocessor\n",
    "from preprocessors.preprocessor_factory import PreprocessorFactory\n",
    "from notebook_utils import notebookToPython\n",
    "from processors.basic_model_training_processor import BasicModelTrainingProcessor\n",
    "from processors.basic_model_evaluation_processor import BasicModelEvaluationProcessor\n",
    "from processors.bulk_model_training_processor import BulkModelTrainingProcessor"
   ]
  },
  {
   "cell_type": "code",
   "execution_count": null,
   "metadata": {},
   "outputs": [],
   "source": [
    "config = configuration.ConfigLoader(configFilename)\n",
    "\n",
    "notebookToPython(notebookName)\n",
    "job = config.getJobConfig(runJobId)\n",
    "\n",
    "if (runDetail.preprocessor != None):\n",
    "    job.preprocessor = runDetail.preprocessor\n",
    "\n",
    "print(f'job.preprocessor={job.preprocessor}')\n",
    "\n",
    "if (job.newModelGenerated == False):\n",
    "    raise ValueError(\"This notebook is meant for training. Select a job without a value for 'persisted-model' set.\")"
   ]
  },
  {
   "cell_type": "code",
   "execution_count": null,
   "metadata": {},
   "outputs": [],
   "source": [
    "preproc_factory = PreprocessorFactory()\n",
    "preprocessor: AbstractPreprocessor = preproc_factory.newPreprocessor(job.preprocessor)"
   ]
  },
  {
   "cell_type": "code",
   "execution_count": null,
   "metadata": {},
   "outputs": [],
   "source": [
    "X, y_encoded = preprocessor.extract_features_multipleSource(job, job.dataPathSuffix)"
   ]
  },
  {
   "cell_type": "code",
   "execution_count": null,
   "metadata": {},
   "outputs": [],
   "source": [
    "bulkTrainingProc = BulkModelTrainingProcessor(job,\n",
    "                                              model_cnn_definition.ModelCnnDefinition,\n",
    "                                              BasicModelTrainingProcessor,\n",
    "                                              BasicModelEvaluationProcessor)\n",
    "\n",
    "bulkTrainingProc.processAsArray(runDetail.random_state_array, X, y_encoded, 1)"
   ]
  }
 ],
 "metadata": {
  "kernelspec": {
   "display_name": "audio-deepfake-detection",
   "language": "python",
   "name": "python3"
  },
  "language_info": {
   "codemirror_mode": {
    "name": "ipython",
    "version": 3
   },
   "file_extension": ".py",
   "mimetype": "text/x-python",
   "name": "python",
   "nbconvert_exporter": "python",
   "pygments_lexer": "ipython3",
   "version": "3.12.3"
  }
 },
 "nbformat": 4,
 "nbformat_minor": 2
}
